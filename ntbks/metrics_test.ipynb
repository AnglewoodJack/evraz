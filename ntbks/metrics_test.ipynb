{
 "cells": [
  {
   "cell_type": "code",
   "execution_count": 32,
   "id": "830faaa0",
   "metadata": {},
   "outputs": [],
   "source": [
    "import numpy as np\n",
    "import pandas as pd"
   ]
  },
  {
   "cell_type": "code",
   "execution_count": 33,
   "id": "eb446259",
   "metadata": {},
   "outputs": [],
   "source": [
    "from sklearn.model_selection import train_test_split\n",
    "from sklearn.preprocessing import StandardScaler, MinMaxScaler\n",
    "from sklearn.linear_model import Ridge\n",
    "from sklearn.datasets import make_regression"
   ]
  },
  {
   "cell_type": "code",
   "execution_count": 34,
   "id": "7cdf9e90",
   "metadata": {},
   "outputs": [],
   "source": [
    "def metric(answers, user_csv):\n",
    "\n",
    "    delta_c = np.abs(np.array(answers['C']) - np.array(user_csv['C']))\n",
    "    hit_rate_c = np.int64(delta_c < 0.02)\n",
    "\n",
    "    delta_t = np.abs(np.array(answers['TST']) - np.array(user_csv['TST']))\n",
    "    hit_rate_t = np.int64(delta_t < 20)\n",
    "\n",
    "    N = np.size(answers['C'])\n",
    "\n",
    "    return np.sum(hit_rate_c + hit_rate_t) / 2 / N"
   ]
  },
  {
   "cell_type": "code",
   "execution_count": 35,
   "id": "c777055d",
   "metadata": {},
   "outputs": [],
   "source": [
    "X, y = make_regression(n_samples=10000, n_features=45, n_informative=45, random_state=1)\n",
    "_ , y2 = make_regression(n_samples=10000, n_features=45, n_informative=40, random_state=42)\n",
    "\n",
    "dummy_df = pd.concat([pd.DataFrame(X),\n",
    "                      pd.DataFrame(y).rename(columns={0: 'C'}),\n",
    "                      pd.DataFrame(y2).rename(columns={0: 'TST'})], axis=1)"
   ]
  },
  {
   "cell_type": "code",
   "execution_count": 35,
   "id": "f9d2c236",
   "metadata": {},
   "outputs": [],
   "source": []
  },
  {
   "cell_type": "code",
   "execution_count": 36,
   "outputs": [],
   "source": [
    "sc = StandardScaler()\n",
    "#sc = MinMaxScaler()"
   ],
   "metadata": {
    "collapsed": false,
    "pycharm": {
     "name": "#%%\n"
    }
   }
  },
  {
   "cell_type": "code",
   "execution_count": 37,
   "id": "23f33b24",
   "metadata": {},
   "outputs": [
    {
     "data": {
      "text/plain": "0.9945595215268416"
     },
     "execution_count": 37,
     "metadata": {},
     "output_type": "execute_result"
    }
   ],
   "source": [
    "features_c = np.array(dummy_df.iloc[:, :45])\n",
    "target_c = np.array(dummy_df.iloc[:, 45:46]) #C\n",
    "\n",
    "features_train_c, features_test_c, target_train_c, target_test_c = train_test_split(features_c, target_c, random_state=0)\n",
    "\n",
    "baseline_c = Ridge()\n",
    "\n",
    "features_train_c = sc.fit_transform(features_train_c)\n",
    "features_test_c = sc.fit_transform(features_test_c)\n",
    "\n",
    "baseline_c.fit(features_train_c, target_train_c)\n",
    "\n",
    "baseline_c.score(features_test_c, target_test_c)"
   ]
  },
  {
   "cell_type": "code",
   "execution_count": 38,
   "id": "667eb41e",
   "metadata": {},
   "outputs": [
    {
     "data": {
      "text/plain": "-0.007406773000429245"
     },
     "execution_count": 38,
     "metadata": {},
     "output_type": "execute_result"
    }
   ],
   "source": [
    "features_tst = np.array(dummy_df.iloc[:, :45])\n",
    "target_tst = np.array(dummy_df.iloc[:, 46:47]) #TST\n",
    "\n",
    "features_train_tst, features_test_tst, target_train_tst, target_test_tst = train_test_split(features_tst, target_tst, random_state=0)\n",
    "\n",
    "baseline_tst = Ridge()\n",
    "\n",
    "features_train_tst = sc.fit_transform(features_train_tst)\n",
    "features_test_tst = sc.fit_transform(features_test_tst)\n",
    "\n",
    "baseline_tst.fit(features_train_tst, target_train_tst)\n",
    "\n",
    "baseline_tst.score(features_test_tst, target_test_tst)"
   ]
  },
  {
   "cell_type": "code",
   "execution_count": 38,
   "id": "d90e8378",
   "metadata": {},
   "outputs": [],
   "source": []
  },
  {
   "cell_type": "code",
   "execution_count": 39,
   "id": "70f6359b",
   "metadata": {},
   "outputs": [],
   "source": [
    "model_tst = baseline_tst.fit(features_train_c, target_train_c)"
   ]
  },
  {
   "cell_type": "code",
   "execution_count": 40,
   "id": "02458060",
   "metadata": {},
   "outputs": [],
   "source": [
    "model_c = baseline_c.fit(features_train_c, target_train_c)"
   ]
  },
  {
   "cell_type": "code",
   "execution_count": 41,
   "id": "774dc34c",
   "metadata": {},
   "outputs": [
    {
     "data": {
      "text/plain": "0.0134"
     },
     "execution_count": 41,
     "metadata": {},
     "output_type": "execute_result"
    }
   ],
   "source": [
    "metric(\n",
    "    pd.concat([\n",
    "        pd.DataFrame(model_c.predict(features_test_c)).rename(columns={0: 'C'}),\n",
    "        pd.DataFrame(model_tst.predict(features_test_tst)).rename(columns={0: 'TST'})],\n",
    "        axis=1),\n",
    "    pd.concat([\n",
    "        pd.DataFrame(target_test_c).rename(columns={0: 'C'}),\n",
    "        pd.DataFrame(target_test_tst).rename(columns={0: 'TST'})],\n",
    "        axis=1),\n",
    "    )"
   ]
  },
  {
   "cell_type": "code",
   "execution_count": 22,
   "id": "45e0d527",
   "metadata": {},
   "outputs": [],
   "source": []
  },
  {
   "cell_type": "code",
   "execution_count": null,
   "outputs": [],
   "source": [],
   "metadata": {
    "collapsed": false,
    "pycharm": {
     "name": "#%%\n"
    }
   }
  }
 ],
 "metadata": {
  "kernelspec": {
   "display_name": "Python 3 (ipykernel)",
   "language": "python",
   "name": "python3"
  },
  "language_info": {
   "codemirror_mode": {
    "name": "ipython",
    "version": 3
   },
   "file_extension": ".py",
   "mimetype": "text/x-python",
   "name": "python",
   "nbconvert_exporter": "python",
   "pygments_lexer": "ipython3",
   "version": "3.7.10"
  }
 },
 "nbformat": 4,
 "nbformat_minor": 5
}