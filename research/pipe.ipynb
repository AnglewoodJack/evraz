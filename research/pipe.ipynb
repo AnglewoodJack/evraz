{
 "cells": [
  {
   "cell_type": "markdown",
   "metadata": {
    "collapsed": true,
    "pycharm": {
     "name": "#%% md\n"
    }
   },
   "source": [
    "# Pipeline samples"
   ]
  },
  {
   "cell_type": "code",
   "execution_count": null,
   "outputs": [],
   "source": [
    "import pandas as pd\n",
    "import numpy as np\n",
    "import seaborn as sns\n",
    "import matplotlib.pyplot as plt\n",
    "import warnings\n",
    "warnings.filterwarnings(\"ignore\", category=FutureWarning)\n",
    "sns.set_style(\"whitegrid\")\n",
    "from catboost import CatBoostClassifier\n",
    "from sklearn.compose import ColumnTransformer\n",
    "from sklearn.model_selection import GridSearchCV\n",
    "from sklearn.pipeline import Pipeline\n",
    "from sklearn.preprocessing import OneHotEncoder, StandardScaler, LabelEncoder\n",
    "from sklearn.metrics import make_scorer\n",
    "from sklearn.ensemble import GradientBoostingRegressor"
   ],
   "metadata": {
    "collapsed": false,
    "pycharm": {
     "name": "#%%\n"
    }
   }
  },
  {
   "cell_type": "markdown",
   "source": [
    "## Sample 1"
   ],
   "metadata": {
    "collapsed": false,
    "pycharm": {
     "name": "#%% md\n"
    }
   }
  },
  {
   "cell_type": "code",
   "execution_count": null,
   "outputs": [],
   "source": [
    "scorer = make_scorer(mape, greater_is_better=False)\n",
    "\n",
    "lb = LabelEncoder().fit(x_train['building_type'].values)\n",
    "\n",
    "x_train['building_type'] = lb.transform(x_train['building_type'].values)\n",
    "x_test['building_type'] = lb.transform(x_test['building_type'].values)\n",
    "\n",
    "\n",
    "def hyperopt(estimator, params):\n",
    "    column_transformer = ColumnTransformer(  # OHE for cat, Scaler for real\n",
    "        transformers=[\n",
    "            ('real', StandardScaler(), real_features),\n",
    "            ('cat', OneHotEncoder(handle_unknown='ignore'), cat_features)\n",
    "\n",
    "        ], n_jobs=4\n",
    "    )\n",
    "\n",
    "    pipeline = Pipeline(  # column transformer and then model\n",
    "        steps=[\n",
    "            ('column_transformer', column_transformer),\n",
    "            ('model', estimator)\n",
    "\n",
    "        ]\n",
    "    )\n",
    "\n",
    "    grid = GridSearchCV(\n",
    "        estimator=pipeline,\n",
    "        param_grid=params,\n",
    "        scoring=scorer,\n",
    "        cv=3,\n",
    "        verbose=2\n",
    "    )\n",
    "\n",
    "    grid.fit(x_train, y_train)\n",
    "\n",
    "    # write best params to `best_params`\n",
    "    best_params = grid.best_params_\n",
    "\n",
    "\n",
    "    column_transformer = ColumnTransformer(  # OHE for cat, Scaler for real\n",
    "        transformers=[\n",
    "            ('real', StandardScaler(), real_features),\n",
    "            ('cat', OneHotEncoder(handle_unknown='ignore'), cat_features)\n",
    "\n",
    "        ], n_jobs=4\n",
    "    )\n",
    "\n",
    "    pipeline = Pipeline(  # column transformer and then model with `best_params` as params\n",
    "        steps=[\n",
    "            ('column_transformer', column_transformer),\n",
    "            ('model', estimator)\n",
    "\n",
    "        ]\n",
    "    )\n",
    "\n",
    "    pipeline.set_params(**best_params)\n",
    "    pipeline.fit(x_train, y_train)\n",
    "\n",
    "    score_train = mape(y_train, pipeline.predict(x_train))\n",
    "    score_test = mape(y_test, pipeline.predict(x_test))\n",
    "\n",
    "    return score_train, score_test, best_params"
   ],
   "metadata": {
    "collapsed": false,
    "pycharm": {
     "name": "#%%\n"
    }
   }
  },
  {
   "cell_type": "code",
   "execution_count": null,
   "outputs": [],
   "source": [
    "param_grid = {\n",
    "    'model__n_estimators': [10],\n",
    "    'model__learning_rate': [0.01, 0.1, 0.3, 0.5],\n",
    "    'model__min_samples_split': [2, 12, 500],\n",
    "    'model__max_depth': [5, 9, 12],\n",
    "    'model__subsample' : [0.5, 0.8, 1],\n",
    "}\n",
    "\n",
    "hyperopt(GradientBoostingRegressor(), param_grid)"
   ],
   "metadata": {
    "collapsed": false,
    "pycharm": {
     "name": "#%%\n"
    }
   }
  },
  {
   "cell_type": "markdown",
   "source": [
    "## Sample 2"
   ],
   "metadata": {
    "collapsed": false,
    "pycharm": {
     "name": "#%% md\n"
    }
   }
  },
  {
   "cell_type": "code",
   "execution_count": null,
   "outputs": [],
   "source": [
    "# Трансформеры данных\n",
    "numeric_transformer = Pipeline(steps=[\n",
    "    # ('imputer', SimpleImputer(strategy='median')), - можно было бы применить импьютер для заполнения пропусков\n",
    "    ('scaler', StandardScaler())])\n",
    "\n",
    "categorical_transformer = OneHotEncoder(handle_unknown='ignore')\n",
    "\n",
    "# Предобработка данных\n",
    "preprocessor = ColumnTransformer(\n",
    "    transformers=[\n",
    "        ('num', numeric_transformer, num_cols),\n",
    "        ('cat', categorical_transformer, cat_cols)])\n",
    "\n",
    "# Основной pipeline\n",
    "pipe = Pipeline(steps=[\n",
    "    ('preprocessor', preprocessor),\n",
    "    ('classifier', LogisticRegression(max_iter=1000))])\n",
    "\n",
    "# Отобразить pipeline\n",
    "set_config(display='diagram')\n",
    "pipe"
   ],
   "metadata": {
    "collapsed": false,
    "pycharm": {
     "name": "#%%\n"
    }
   }
  },
  {
   "cell_type": "code",
   "execution_count": null,
   "outputs": [],
   "source": [
    "# Параметры модели и преодобработки данных\n",
    "parameters = {\n",
    "    'preprocessor__num__scaler': [StandardScaler(), RobustScaler()],\n",
    "    'classifier__C': [100, 10, 1, 0.1, 0.01, 0.001]\n",
    "}"
   ],
   "metadata": {
    "collapsed": false,
    "pycharm": {
     "name": "#%%\n"
    }
   }
  },
  {
   "cell_type": "code",
   "execution_count": null,
   "outputs": [],
   "source": [
    "# Подбор параметров\n",
    "X_train, y_train = data[num_cols + cat_cols], data[target_col]\n",
    "cross_val = StratifiedShuffleSplit(n_splits=5,test_size=0.3,random_state=42)\n",
    "\n",
    "grid = GridSearchCV(pipe, parameters, cv=cross_val, scoring='roc_auc').fit(X_train, y_train)"
   ],
   "metadata": {
    "collapsed": false,
    "pycharm": {
     "name": "#%%\n"
    }
   }
  },
  {
   "cell_type": "code",
   "execution_count": null,
   "outputs": [],
   "source": [
    "print(\"Лучшие параметры:\", grid.best_params_)\n",
    "print(\"Лучший score:\", grid.best_score_)"
   ],
   "metadata": {
    "collapsed": false,
    "pycharm": {
     "name": "#%%\n"
    }
   }
  },
  {
   "cell_type": "code",
   "execution_count": null,
   "outputs": [],
   "source": [
    "# Модель\n",
    "model = CatBoostClassifier(iterations=100, # количество деревьев уменьшено до 100 для ускорения расчетов\n",
    "                           cat_features=cat_cols, # категориальные фичи\n",
    "                           eval_metric='AUC:hints=skip_train~false', # метрика\n",
    "                           verbose=False) # вывод инфорамации\n",
    "\n",
    "# Сетка для подбора параметров\n",
    "grid = {'learning_rate': [0.01, 0.03, 0.05, 0.1],\n",
    "        'depth': [4, 6, 10],\n",
    "        'l2_leaf_reg': [1, 3, 5, 7, 9]}\n",
    "\n",
    "# Поиск лучших параметров\n",
    "grid_search_result = model.grid_search(grid,\n",
    "                                       X=X_train,\n",
    "                                       y=y_train,\n",
    "                                       cv=5,\n",
    "                                       refit=True,\n",
    "                                       shuffle=True,\n",
    "                                       stratified=True,\n",
    "                                       verbose=False,\n",
    "                                       plot=True)"
   ],
   "metadata": {
    "collapsed": false,
    "pycharm": {
     "name": "#%%\n"
    }
   }
  },
  {
   "cell_type": "code",
   "execution_count": null,
   "outputs": [],
   "source": [
    "# CatBoost с лучшими параметрами\n",
    "best_boost = CatBoostClassifier(iterations=100,\n",
    "                                cat_features=cat_cols,\n",
    "                                custom_metric='AUC:hints=skip_train~false',\n",
    "                                verbose=False,\n",
    "                                **grid_search_result['params'])\n",
    "\n",
    "best_boost.fit(X_train, y_train)"
   ],
   "metadata": {
    "collapsed": false,
    "pycharm": {
     "name": "#%%\n"
    }
   }
  },
  {
   "cell_type": "code",
   "execution_count": null,
   "outputs": [],
   "source": [
    "# Результаты кросс-валидации\n",
    "pd.DataFrame(grid_search_result['cv_results'])"
   ],
   "metadata": {
    "collapsed": false,
    "pycharm": {
     "name": "#%%\n"
    }
   }
  },
  {
   "cell_type": "code",
   "execution_count": null,
   "outputs": [],
   "source": [
    "print(\"Лучшие параметры:\", grid_search_result['params'])\n",
    "print(\"Лучший score:\", 0.8740685544)"
   ],
   "metadata": {
    "collapsed": false,
    "pycharm": {
     "name": "#%%\n"
    }
   }
  }
 ],
 "metadata": {
  "kernelspec": {
   "display_name": "Python 3",
   "language": "python",
   "name": "python3"
  },
  "language_info": {
   "codemirror_mode": {
    "name": "ipython",
    "version": 2
   },
   "file_extension": ".py",
   "mimetype": "text/x-python",
   "name": "python",
   "nbconvert_exporter": "python",
   "pygments_lexer": "ipython2",
   "version": "2.7.6"
  }
 },
 "nbformat": 4,
 "nbformat_minor": 0
}