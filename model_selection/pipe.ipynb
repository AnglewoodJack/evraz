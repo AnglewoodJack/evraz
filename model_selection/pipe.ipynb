{
 "cells": [
  {
   "cell_type": "markdown",
   "metadata": {
    "collapsed": true,
    "pycharm": {
     "name": "#%% md\n"
    }
   },
   "source": [
    "# Исследование моделей"
   ]
  },
  {
   "cell_type": "markdown",
   "metadata": {
    "heading_collapsed": true
   },
   "source": [
    "## Библиотеки"
   ]
  },
  {
   "cell_type": "code",
   "execution_count": 28,
   "metadata": {
    "ExecuteTime": {
     "end_time": "2021-10-27T18:59:43.166169Z",
     "start_time": "2021-10-27T18:59:43.160873Z"
    },
    "hidden": true,
    "pycharm": {
     "name": "#%%\n"
    }
   },
   "outputs": [],
   "source": [
    "import os\n",
    "import numpy as np\n",
    "import pandas as pd\n",
    "\n",
    "from sklearn.pipeline import Pipeline\n",
    "from sklearn.compose import ColumnTransformer\n",
    "from sklearn.model_selection import GridSearchCV\n",
    "from sklearn.model_selection import train_test_split\n",
    "from sklearn.preprocessing import OneHotEncoder, StandardScaler, LabelEncoder\n",
    "from sklearn.metrics import mean_absolute_percentage_error, r2_score, mean_squared_error\n",
    "\n",
    "import seaborn as sns\n",
    "sns.set_style(\"whitegrid\")\n",
    "import matplotlib.pyplot as plt\n",
    "\n",
    "import warnings\n",
    "warnings.filterwarnings(\"ignore\", category=FutureWarning)\n",
    "\n",
    "pd.set_option('display.max_columns', None)\n",
    "# pd.set_option('display.max_rows', None)"
   ]
  },
  {
   "cell_type": "markdown",
   "metadata": {},
   "source": [
    "## Загрузка данных, предобработка"
   ]
  },
  {
   "cell_type": "code",
   "execution_count": 25,
   "metadata": {
    "ExecuteTime": {
     "end_time": "2021-10-27T18:58:34.675566Z",
     "start_time": "2021-10-27T18:58:34.672257Z"
    }
   },
   "outputs": [],
   "source": [
    "# Путь к файлу с данными.\n",
    "data_path = os.path.join(os.path.dirname(os.getcwd()), 'data', 'dummy.csv')"
   ]
  },
  {
   "cell_type": "code",
   "execution_count": 26,
   "metadata": {
    "ExecuteTime": {
     "end_time": "2021-10-27T18:58:58.396548Z",
     "start_time": "2021-10-27T18:58:58.373386Z"
    }
   },
   "outputs": [],
   "source": [
    "# Загрузка данных.\n",
    "data = pd.read_csv(data_path)"
   ]
  },
  {
   "cell_type": "code",
   "execution_count": 30,
   "metadata": {
    "ExecuteTime": {
     "end_time": "2021-10-27T19:00:11.838891Z",
     "start_time": "2021-10-27T19:00:11.802830Z"
    }
   },
   "outputs": [
    {
     "data": {
      "text/html": [
       "<div>\n",
       "<style scoped>\n",
       "    .dataframe tbody tr th:only-of-type {\n",
       "        vertical-align: middle;\n",
       "    }\n",
       "\n",
       "    .dataframe tbody tr th {\n",
       "        vertical-align: top;\n",
       "    }\n",
       "\n",
       "    .dataframe thead th {\n",
       "        text-align: right;\n",
       "    }\n",
       "</style>\n",
       "<table border=\"1\" class=\"dataframe\">\n",
       "  <thead>\n",
       "    <tr style=\"text-align: right;\">\n",
       "      <th></th>\n",
       "      <th>0</th>\n",
       "      <th>1</th>\n",
       "      <th>2</th>\n",
       "      <th>3</th>\n",
       "      <th>4</th>\n",
       "      <th>5</th>\n",
       "      <th>6</th>\n",
       "      <th>7</th>\n",
       "      <th>8</th>\n",
       "      <th>9</th>\n",
       "      <th>10</th>\n",
       "      <th>11</th>\n",
       "      <th>12</th>\n",
       "      <th>13</th>\n",
       "      <th>14</th>\n",
       "      <th>15</th>\n",
       "      <th>16</th>\n",
       "      <th>17</th>\n",
       "      <th>18</th>\n",
       "      <th>19</th>\n",
       "      <th>20</th>\n",
       "      <th>21</th>\n",
       "      <th>22</th>\n",
       "      <th>23</th>\n",
       "      <th>24</th>\n",
       "      <th>25</th>\n",
       "      <th>26</th>\n",
       "      <th>27</th>\n",
       "      <th>28</th>\n",
       "      <th>29</th>\n",
       "      <th>30</th>\n",
       "      <th>31</th>\n",
       "      <th>32</th>\n",
       "      <th>33</th>\n",
       "      <th>34</th>\n",
       "      <th>35</th>\n",
       "      <th>36</th>\n",
       "      <th>37</th>\n",
       "      <th>38</th>\n",
       "      <th>39</th>\n",
       "      <th>40</th>\n",
       "      <th>41</th>\n",
       "      <th>42</th>\n",
       "      <th>43</th>\n",
       "      <th>44</th>\n",
       "      <th>C</th>\n",
       "      <th>TST</th>\n",
       "      <th>date</th>\n",
       "    </tr>\n",
       "  </thead>\n",
       "  <tbody>\n",
       "    <tr>\n",
       "      <th>0</th>\n",
       "      <td>0.808231</td>\n",
       "      <td>0.673377</td>\n",
       "      <td>0.770908</td>\n",
       "      <td>0.571957</td>\n",
       "      <td>0.921815</td>\n",
       "      <td>0.457309</td>\n",
       "      <td>0.305348</td>\n",
       "      <td>0.534712</td>\n",
       "      <td>0.621063</td>\n",
       "      <td>0.177041</td>\n",
       "      <td>0.895601</td>\n",
       "      <td>0.877007</td>\n",
       "      <td>0.388681</td>\n",
       "      <td>0.001421</td>\n",
       "      <td>0.673024</td>\n",
       "      <td>0.822874</td>\n",
       "      <td>0.459102</td>\n",
       "      <td>0.071372</td>\n",
       "      <td>0.734894</td>\n",
       "      <td>0.232367</td>\n",
       "      <td>0.356942</td>\n",
       "      <td>0.472879</td>\n",
       "      <td>0.909957</td>\n",
       "      <td>0.639476</td>\n",
       "      <td>0.969845</td>\n",
       "      <td>0.164019</td>\n",
       "      <td>0.176951</td>\n",
       "      <td>0.167290</td>\n",
       "      <td>0.610445</td>\n",
       "      <td>0.774414</td>\n",
       "      <td>0.742411</td>\n",
       "      <td>0.270831</td>\n",
       "      <td>0.355087</td>\n",
       "      <td>0.959222</td>\n",
       "      <td>0.614040</td>\n",
       "      <td>0.409367</td>\n",
       "      <td>0.187739</td>\n",
       "      <td>0.066762</td>\n",
       "      <td>0.671984</td>\n",
       "      <td>0.014352</td>\n",
       "      <td>0.390243</td>\n",
       "      <td>0.730427</td>\n",
       "      <td>0.439314</td>\n",
       "      <td>0.596509</td>\n",
       "      <td>1</td>\n",
       "      <td>0.948128</td>\n",
       "      <td>0.242574</td>\n",
       "      <td>1979-01-01</td>\n",
       "    </tr>\n",
       "    <tr>\n",
       "      <th>1</th>\n",
       "      <td>0.045224</td>\n",
       "      <td>0.860874</td>\n",
       "      <td>0.249191</td>\n",
       "      <td>0.735388</td>\n",
       "      <td>0.108380</td>\n",
       "      <td>0.740083</td>\n",
       "      <td>0.928146</td>\n",
       "      <td>0.937495</td>\n",
       "      <td>0.825814</td>\n",
       "      <td>0.551267</td>\n",
       "      <td>0.938241</td>\n",
       "      <td>0.610978</td>\n",
       "      <td>0.159465</td>\n",
       "      <td>0.764799</td>\n",
       "      <td>0.109442</td>\n",
       "      <td>0.249858</td>\n",
       "      <td>0.874143</td>\n",
       "      <td>0.148369</td>\n",
       "      <td>0.002395</td>\n",
       "      <td>0.707496</td>\n",
       "      <td>0.332426</td>\n",
       "      <td>0.927871</td>\n",
       "      <td>0.015264</td>\n",
       "      <td>0.926864</td>\n",
       "      <td>0.899994</td>\n",
       "      <td>0.988074</td>\n",
       "      <td>0.059827</td>\n",
       "      <td>0.790916</td>\n",
       "      <td>0.187519</td>\n",
       "      <td>0.596276</td>\n",
       "      <td>0.096944</td>\n",
       "      <td>0.244653</td>\n",
       "      <td>0.061271</td>\n",
       "      <td>0.054832</td>\n",
       "      <td>0.775601</td>\n",
       "      <td>0.853790</td>\n",
       "      <td>0.718961</td>\n",
       "      <td>0.978334</td>\n",
       "      <td>0.333916</td>\n",
       "      <td>0.978914</td>\n",
       "      <td>0.071489</td>\n",
       "      <td>0.113931</td>\n",
       "      <td>0.183773</td>\n",
       "      <td>0.326431</td>\n",
       "      <td>0</td>\n",
       "      <td>0.246897</td>\n",
       "      <td>0.730950</td>\n",
       "      <td>1979-01-02</td>\n",
       "    </tr>\n",
       "    <tr>\n",
       "      <th>2</th>\n",
       "      <td>0.068763</td>\n",
       "      <td>0.512598</td>\n",
       "      <td>0.620058</td>\n",
       "      <td>0.393764</td>\n",
       "      <td>0.717195</td>\n",
       "      <td>0.623042</td>\n",
       "      <td>0.542581</td>\n",
       "      <td>0.331280</td>\n",
       "      <td>0.730439</td>\n",
       "      <td>0.834504</td>\n",
       "      <td>0.615643</td>\n",
       "      <td>0.340900</td>\n",
       "      <td>0.462791</td>\n",
       "      <td>0.480665</td>\n",
       "      <td>0.837764</td>\n",
       "      <td>0.997498</td>\n",
       "      <td>0.368087</td>\n",
       "      <td>0.472072</td>\n",
       "      <td>0.927994</td>\n",
       "      <td>0.352455</td>\n",
       "      <td>0.476502</td>\n",
       "      <td>0.375421</td>\n",
       "      <td>0.114852</td>\n",
       "      <td>0.869956</td>\n",
       "      <td>0.945180</td>\n",
       "      <td>0.087041</td>\n",
       "      <td>0.330904</td>\n",
       "      <td>0.592855</td>\n",
       "      <td>0.658857</td>\n",
       "      <td>0.592798</td>\n",
       "      <td>0.929559</td>\n",
       "      <td>0.044761</td>\n",
       "      <td>0.804134</td>\n",
       "      <td>0.981568</td>\n",
       "      <td>0.513337</td>\n",
       "      <td>0.584267</td>\n",
       "      <td>0.527923</td>\n",
       "      <td>0.693056</td>\n",
       "      <td>0.511603</td>\n",
       "      <td>0.838649</td>\n",
       "      <td>0.851771</td>\n",
       "      <td>0.073625</td>\n",
       "      <td>0.927801</td>\n",
       "      <td>0.842541</td>\n",
       "      <td>1</td>\n",
       "      <td>0.589659</td>\n",
       "      <td>0.048698</td>\n",
       "      <td>1979-01-03</td>\n",
       "    </tr>\n",
       "  </tbody>\n",
       "</table>\n",
       "</div>"
      ],
      "text/plain": [
       "          0         1         2         3         4         5         6  \\\n",
       "0  0.808231  0.673377  0.770908  0.571957  0.921815  0.457309  0.305348   \n",
       "1  0.045224  0.860874  0.249191  0.735388  0.108380  0.740083  0.928146   \n",
       "2  0.068763  0.512598  0.620058  0.393764  0.717195  0.623042  0.542581   \n",
       "\n",
       "          7         8         9        10        11        12        13  \\\n",
       "0  0.534712  0.621063  0.177041  0.895601  0.877007  0.388681  0.001421   \n",
       "1  0.937495  0.825814  0.551267  0.938241  0.610978  0.159465  0.764799   \n",
       "2  0.331280  0.730439  0.834504  0.615643  0.340900  0.462791  0.480665   \n",
       "\n",
       "         14        15        16        17        18        19        20  \\\n",
       "0  0.673024  0.822874  0.459102  0.071372  0.734894  0.232367  0.356942   \n",
       "1  0.109442  0.249858  0.874143  0.148369  0.002395  0.707496  0.332426   \n",
       "2  0.837764  0.997498  0.368087  0.472072  0.927994  0.352455  0.476502   \n",
       "\n",
       "         21        22        23        24        25        26        27  \\\n",
       "0  0.472879  0.909957  0.639476  0.969845  0.164019  0.176951  0.167290   \n",
       "1  0.927871  0.015264  0.926864  0.899994  0.988074  0.059827  0.790916   \n",
       "2  0.375421  0.114852  0.869956  0.945180  0.087041  0.330904  0.592855   \n",
       "\n",
       "         28        29        30        31        32        33        34  \\\n",
       "0  0.610445  0.774414  0.742411  0.270831  0.355087  0.959222  0.614040   \n",
       "1  0.187519  0.596276  0.096944  0.244653  0.061271  0.054832  0.775601   \n",
       "2  0.658857  0.592798  0.929559  0.044761  0.804134  0.981568  0.513337   \n",
       "\n",
       "         35        36        37        38        39        40        41  \\\n",
       "0  0.409367  0.187739  0.066762  0.671984  0.014352  0.390243  0.730427   \n",
       "1  0.853790  0.718961  0.978334  0.333916  0.978914  0.071489  0.113931   \n",
       "2  0.584267  0.527923  0.693056  0.511603  0.838649  0.851771  0.073625   \n",
       "\n",
       "         42        43  44         C       TST        date  \n",
       "0  0.439314  0.596509   1  0.948128  0.242574  1979-01-01  \n",
       "1  0.183773  0.326431   0  0.246897  0.730950  1979-01-02  \n",
       "2  0.927801  0.842541   1  0.589659  0.048698  1979-01-03  "
      ]
     },
     "execution_count": 30,
     "metadata": {},
     "output_type": "execute_result"
    }
   ],
   "source": [
    "# Проверка.\n",
    "data.head(3)"
   ]
  },
  {
   "cell_type": "markdown",
   "metadata": {},
   "source": [
    "## EDA и очистка данных"
   ]
  },
  {
   "cell_type": "markdown",
   "metadata": {},
   "source": [
    "### Типы данных и пропуски"
   ]
  },
  {
   "cell_type": "code",
   "execution_count": 32,
   "metadata": {
    "ExecuteTime": {
     "end_time": "2021-10-27T19:07:03.706694Z",
     "start_time": "2021-10-27T19:07:03.704611Z"
    },
    "scrolled": false
   },
   "outputs": [],
   "source": [
    "# Типы данных.\n",
    "# data.dtypes"
   ]
  },
  {
   "cell_type": "code",
   "execution_count": 11,
   "metadata": {
    "ExecuteTime": {
     "end_time": "2021-10-27T18:51:40.988567Z",
     "start_time": "2021-10-27T18:51:40.982097Z"
    }
   },
   "outputs": [],
   "source": [
    "# Преобразование даты.\n",
    "data.date = pd.to_datetime(data.date)"
   ]
  },
  {
   "cell_type": "code",
   "execution_count": 17,
   "metadata": {
    "ExecuteTime": {
     "end_time": "2021-10-27T18:53:33.109596Z",
     "start_time": "2021-10-27T18:53:33.098966Z"
    }
   },
   "outputs": [
    {
     "data": {
      "text/plain": [
       "0      722450\n",
       "1      722451\n",
       "2      722452\n",
       "3      722453\n",
       "4      722454\n",
       "        ...  \n",
       "995    723445\n",
       "996    723446\n",
       "997    723447\n",
       "998    723448\n",
       "999    723449\n",
       "Name: date, Length: 1000, dtype: int64"
      ]
     },
     "execution_count": 17,
     "metadata": {},
     "output_type": "execute_result"
    }
   ],
   "source": [
    "data.date.apply(lambda x: x.toordinal())"
   ]
  },
  {
   "cell_type": "code",
   "execution_count": 14,
   "metadata": {
    "ExecuteTime": {
     "end_time": "2021-10-27T18:52:05.168133Z",
     "start_time": "2021-10-27T18:52:05.150848Z"
    }
   },
   "outputs": [
    {
     "data": {
      "text/plain": [
       "0        0\n",
       "1        1\n",
       "2        2\n",
       "3        3\n",
       "4        4\n",
       "      ... \n",
       "995    995\n",
       "996    996\n",
       "997    997\n",
       "998    998\n",
       "999    999\n",
       "Name: days, Length: 1000, dtype: int64"
      ]
     },
     "execution_count": 14,
     "metadata": {},
     "output_type": "execute_result"
    }
   ],
   "source": [
    "(data.date - data.date.min()).dt.components['days']"
   ]
  },
  {
   "cell_type": "code",
   "execution_count": null,
   "metadata": {},
   "outputs": [],
   "source": []
  },
  {
   "cell_type": "markdown",
   "metadata": {},
   "source": [
    "## Модели"
   ]
  },
  {
   "cell_type": "markdown",
   "metadata": {},
   "source": [
    "### Классические"
   ]
  },
  {
   "cell_type": "code",
   "execution_count": null,
   "metadata": {},
   "outputs": [],
   "source": [
    "# Линейная регрессия с L2-регуляризацией.\n",
    "from sklearn.linear_model import Ridge\n",
    "# Случайный лес.\n",
    "from sklearn.ensemble import RandomForestRegressor\n",
    "# Бустниги.\n",
    "from catboost import CatBoostRegressor\n",
    "from xgboost import XGBRegressor\n",
    "\n",
    "# Мультитаргет-регрессия.\n",
    "from sklearn.multioutput import MultiOutputRegressor"
   ]
  },
  {
   "cell_type": "code",
   "execution_count": null,
   "metadata": {},
   "outputs": [],
   "source": [
    "# Пример мультитаргет-регрессия.\n",
    "ridge = Ridge()\n",
    "model = MultiOutputRegressor(estimator=ridge)\n",
    "model.fit(X_train, y_train)\n",
    "\n",
    "score = model.score(X_train, y_train)\n",
    "print(\"Training score:\", score)\n",
    "\n",
    "y_pred = model.predict(X_test)"
   ]
  },
  {
   "cell_type": "markdown",
   "metadata": {},
   "source": [
    "## Мета-алгоритмы"
   ]
  },
  {
   "cell_type": "code",
   "execution_count": null,
   "metadata": {},
   "outputs": [],
   "source": [
    "# Голосование.\n",
    "from sklearn.ensemble import VotingRegressor\n",
    "# Пример.\n",
    "voting_algorithm = VotingRegressor(\n",
    "    [('CB', CatBoostRegressor()), ('XGB', XGBRegressor())]\n",
    ")\n",
    "\n",
    "y_pred = voting_algorithm.fit(X_train, y_train).predict(X_test)"
   ]
  },
  {
   "cell_type": "code",
   "execution_count": null,
   "metadata": {},
   "outputs": [],
   "source": [
    "# Бэггинг.\n",
    "from sklearn.ensemble import BaggingRegressor\n",
    "# Пример.\n",
    "bagging = BaggingRegressor(base_estimator=Ridge(), n_estimators=10, random_state=0).fit(X, y)\n",
    "\n",
    "y_pred = bagging.predict(X_test)"
   ]
  },
  {
   "cell_type": "code",
   "execution_count": null,
   "metadata": {},
   "outputs": [],
   "source": [
    "# Стэкинг.\n",
    "from sklearn.ensemble import StackingRegressor\n",
    "# Пример.\n",
    "estimators = [\n",
    "    ('CB', CatBoostRegressor()),\n",
    "    ('XGB', XGBRegressor())\n",
    "]\n",
    "reg = StackingRegressor(\n",
    "    estimators=estimators,\n",
    "    final_estimator=RandomForestRegressor(n_estimators=10, random_state=42)\n",
    ")\n",
    "\n",
    "reg.fit(X_train, y_train).score(X_test, y_test)"
   ]
  },
  {
   "cell_type": "markdown",
   "metadata": {},
   "source": [
    "### Нейросеть"
   ]
  },
  {
   "cell_type": "code",
   "execution_count": null,
   "metadata": {},
   "outputs": [],
   "source": [
    "from keras.models import Sequential\n",
    "from keras.layers import Dense"
   ]
  },
  {
   "cell_type": "markdown",
   "metadata": {},
   "source": [
    "## Метрики"
   ]
  },
  {
   "cell_type": "code",
   "execution_count": null,
   "metadata": {},
   "outputs": [],
   "source": [
    "def evraz_metric(answers: pd.DataFrame, user_csv: pd.DataFrame):\n",
    "    \"\"\"\n",
    "    Метрика оценки качества модели, предложенная организаторами EVRAZ.\n",
    "    :param answers: pd.DataFrame, датасет с реальными значениями целевых переменных.\n",
    "    :param user_csv: pd.DataFrame, датасет с предсказанными значениями целевых переменных.\n",
    "    :return:\n",
    "    \"\"\"\n",
    "    # Содержание углерода в металле.\n",
    "    delta_c = np.abs(np.array(answers['C']) - np.array(user_csv['C']))\n",
    "    hit_rate_c = np.int64(delta_c < 0.02)\n",
    "    # Температура металла.\n",
    "    delta_t = np.abs(np.array(answers['TST']) - np.array(user_csv['TST']))\n",
    "    hit_rate_t = np.int64(delta_t < 20)\n",
    "\n",
    "    N = np.size(answers['C'])\n",
    "\n",
    "    return np.sum(hit_rate_c + hit_rate_t) / 2 / N\n",
    "\n",
    "\n",
    "def median_absolute_percentage_error(y_true: np.array, y_pred: np.array) -> float:\n",
    "    return np.median(np.abs(y_pred-y_true)/y_true)\n",
    "\n",
    "\n",
    "def metrics_stat(y_true: np.array, y_pred: np.array) -> Dict[str, float]:\n",
    "    \"\"\"\n",
    "    Вывод основных метрик.\n",
    "    :param y_true: np.array, реальные значения целевой переменной.\n",
    "    :param y_pred: np.array, предсказанные значения целевой переменной.\n",
    "    :return: dict, словарь с названиями метрик и значениями\n",
    "    \"\"\"\n",
    "    mape = mean_absolute_percentage_error(y_true, y_pred)\n",
    "    mdape = median_absolute_percentage_error(y_true, y_pred)\n",
    "    rmse = mean_squared_error(y_true, y_pred, squared=False)\n",
    "    r2 = r2_score(y_true, y_pred)\n",
    "    return {'mape': mape, 'mdape': mdape, 'rmse': rmse, 'r2': r2}"
   ]
  },
  {
   "cell_type": "markdown",
   "metadata": {
    "pycharm": {
     "name": "#%% md\n"
    }
   },
   "source": [
    "## Пайплайн (классические модели)"
   ]
  },
  {
   "cell_type": "code",
   "execution_count": null,
   "metadata": {
    "pycharm": {
     "name": "#%%\n"
    }
   },
   "outputs": [],
   "source": [
    "scorer = make_scorer(mape, greater_is_better=False)\n",
    "\n",
    "lb = LabelEncoder().fit(x_train['building_type'].values)\n",
    "\n",
    "x_train['building_type'] = lb.transform(x_train['building_type'].values)\n",
    "x_test['building_type'] = lb.transform(x_test['building_type'].values)\n",
    "\n",
    "\n",
    "def hyperopt(estimator, params):\n",
    "    column_transformer = ColumnTransformer(  # OHE for cat, Scaler for real\n",
    "        transformers=[\n",
    "            ('real', StandardScaler(), real_features),\n",
    "            ('cat', OneHotEncoder(handle_unknown='ignore'), cat_features)\n",
    "\n",
    "        ], n_jobs=4\n",
    "    )\n",
    "\n",
    "    pipeline = Pipeline(  # column transformer and then model\n",
    "        steps=[\n",
    "            ('column_transformer', column_transformer),\n",
    "            ('model', estimator)\n",
    "\n",
    "        ]\n",
    "    )\n",
    "\n",
    "    grid = GridSearchCV(\n",
    "        estimator=pipeline,\n",
    "        param_grid=params,\n",
    "        scoring=scorer,\n",
    "        cv=3,\n",
    "        verbose=2\n",
    "    )\n",
    "\n",
    "    grid.fit(x_train, y_train)\n",
    "\n",
    "    # write best params to `best_params`\n",
    "    best_params = grid.best_params_\n",
    "\n",
    "\n",
    "    column_transformer = ColumnTransformer(  # OHE for cat, Scaler for real\n",
    "        transformers=[\n",
    "            ('real', StandardScaler(), real_features),\n",
    "            ('cat', OneHotEncoder(handle_unknown='ignore'), cat_features)\n",
    "\n",
    "        ], n_jobs=4\n",
    "    )\n",
    "\n",
    "    pipeline = Pipeline(  # column transformer and then model with `best_params` as params\n",
    "        steps=[\n",
    "            ('column_transformer', column_transformer),\n",
    "            ('model', estimator)\n",
    "\n",
    "        ]\n",
    "    )\n",
    "\n",
    "    pipeline.set_params(**best_params)\n",
    "    pipeline.fit(x_train, y_train)\n",
    "\n",
    "    score_train = mape(y_train, pipeline.predict(x_train))\n",
    "    score_test = mape(y_test, pipeline.predict(x_test))\n",
    "\n",
    "    return score_train, score_test, best_params"
   ]
  },
  {
   "cell_type": "code",
   "execution_count": null,
   "metadata": {
    "pycharm": {
     "name": "#%%\n"
    }
   },
   "outputs": [],
   "source": [
    "param_grid = {\n",
    "    'model__n_estimators': [10],\n",
    "    'model__learning_rate': [0.01, 0.1, 0.3, 0.5],\n",
    "    'model__min_samples_split': [2, 12, 500],\n",
    "    'model__max_depth': [5, 9, 12],\n",
    "    'model__subsample' : [0.5, 0.8, 1],\n",
    "}\n",
    "\n",
    "hyperopt(GradientBoostingRegressor(), param_grid)"
   ]
  },
  {
   "cell_type": "markdown",
   "metadata": {
    "pycharm": {
     "name": "#%% md\n"
    }
   },
   "source": [
    "## Sample 2"
   ]
  },
  {
   "cell_type": "code",
   "execution_count": null,
   "metadata": {
    "pycharm": {
     "name": "#%%\n"
    }
   },
   "outputs": [],
   "source": [
    "# Трансформеры данных\n",
    "numeric_transformer = Pipeline(steps=[\n",
    "    # ('imputer', SimpleImputer(strategy='median')), - можно было бы применить импьютер для заполнения пропусков\n",
    "    ('scaler', StandardScaler())])\n",
    "\n",
    "categorical_transformer = OneHotEncoder(handle_unknown='ignore')\n",
    "\n",
    "# Предобработка данных\n",
    "preprocessor = ColumnTransformer(\n",
    "    transformers=[\n",
    "        ('num', numeric_transformer, num_cols),\n",
    "        ('cat', categorical_transformer, cat_cols)])\n",
    "\n",
    "# Основной pipeline\n",
    "pipe = Pipeline(steps=[\n",
    "    ('preprocessor', preprocessor),\n",
    "    ('classifier', LogisticRegression(max_iter=1000))])\n",
    "\n",
    "# Отобразить pipeline\n",
    "set_config(display='diagram')\n",
    "pipe"
   ]
  },
  {
   "cell_type": "code",
   "execution_count": null,
   "metadata": {
    "pycharm": {
     "name": "#%%\n"
    }
   },
   "outputs": [],
   "source": [
    "# Параметры модели и преодобработки данных\n",
    "parameters = {\n",
    "    'preprocessor__num__scaler': [StandardScaler(), RobustScaler()],\n",
    "    'classifier__C': [100, 10, 1, 0.1, 0.01, 0.001]\n",
    "}"
   ]
  },
  {
   "cell_type": "code",
   "execution_count": null,
   "metadata": {
    "pycharm": {
     "name": "#%%\n"
    }
   },
   "outputs": [],
   "source": [
    "# Подбор параметров\n",
    "X_train, y_train = data[num_cols + cat_cols], data[target_col]\n",
    "cross_val = StratifiedShuffleSplit(n_splits=5,test_size=0.3,random_state=42)\n",
    "\n",
    "grid = GridSearchCV(pipe, parameters, cv=cross_val, scoring='roc_auc').fit(X_train, y_train)"
   ]
  },
  {
   "cell_type": "code",
   "execution_count": null,
   "metadata": {
    "pycharm": {
     "name": "#%%\n"
    }
   },
   "outputs": [],
   "source": [
    "print(\"Лучшие параметры:\", grid.best_params_)\n",
    "print(\"Лучший score:\", grid.best_score_)"
   ]
  },
  {
   "cell_type": "code",
   "execution_count": null,
   "metadata": {
    "pycharm": {
     "name": "#%%\n"
    }
   },
   "outputs": [],
   "source": [
    "# Модель\n",
    "model = CatBoostClassifier(iterations=100, # количество деревьев уменьшено до 100 для ускорения расчетов\n",
    "                           cat_features=cat_cols, # категориальные фичи\n",
    "                           eval_metric='AUC:hints=skip_train~false', # метрика\n",
    "                           verbose=False) # вывод инфорамации\n",
    "\n",
    "# Сетка для подбора параметров\n",
    "grid = {'learning_rate': [0.01, 0.03, 0.05, 0.1],\n",
    "        'depth': [4, 6, 10],\n",
    "        'l2_leaf_reg': [1, 3, 5, 7, 9]}\n",
    "\n",
    "# Поиск лучших параметров\n",
    "grid_search_result = model.grid_search(grid,\n",
    "                                       X=X_train,\n",
    "                                       y=y_train,\n",
    "                                       cv=5,\n",
    "                                       refit=True,\n",
    "                                       shuffle=True,\n",
    "                                       stratified=True,\n",
    "                                       verbose=False,\n",
    "                                       plot=True)"
   ]
  },
  {
   "cell_type": "code",
   "execution_count": null,
   "metadata": {
    "pycharm": {
     "name": "#%%\n"
    }
   },
   "outputs": [],
   "source": [
    "# CatBoost с лучшими параметрами\n",
    "best_boost = CatBoostClassifier(iterations=100,\n",
    "                                cat_features=cat_cols,\n",
    "                                custom_metric='AUC:hints=skip_train~false',\n",
    "                                verbose=False,\n",
    "                                **grid_search_result['params'])\n",
    "\n",
    "best_boost.fit(X_train, y_train)"
   ]
  },
  {
   "cell_type": "code",
   "execution_count": null,
   "metadata": {
    "pycharm": {
     "name": "#%%\n"
    }
   },
   "outputs": [],
   "source": [
    "# Результаты кросс-валидации\n",
    "pd.DataFrame(grid_search_result['cv_results'])"
   ]
  },
  {
   "cell_type": "code",
   "execution_count": null,
   "metadata": {
    "pycharm": {
     "name": "#%%\n"
    }
   },
   "outputs": [],
   "source": [
    "print(\"Лучшие параметры:\", grid_search_result['params'])\n",
    "print(\"Лучший score:\", 0.8740685544)"
   ]
  },
  {
   "cell_type": "markdown",
   "metadata": {},
   "source": [
    "## Пайплайн (нейросеть)"
   ]
  },
  {
   "cell_type": "code",
   "execution_count": null,
   "metadata": {},
   "outputs": [],
   "source": [
    "def create_data(n):\n",
    "    x1 = np.array([i/100+np.random.uniform(-1,3) for i in range(n)]).reshape(n,1)\n",
    "    x2 = np.array([i/100+np.random.uniform(-3,5)+2 for i in range(n)]).reshape(n,1)\n",
    "    x3 = np.array([i/100+np.random.uniform(-6,5)-3 for i in range(n)]).reshape(n,1)\n",
    "\n",
    "    y1= [x1[i]-x2[i]+x3[i]+np.random.uniform(-2,2) for i in range(n)]\n",
    "    y2= [x1[i]+x2[i]-x3[i]+5+np.random.uniform(-1,3) for i in range(n)]\n",
    "    X = np.hstack((x1, x2, x3))\n",
    "    Y = np.hstack((y1, y2))\n",
    "    return X, Y\n",
    "\n",
    "X, Y = create_data(n=450)\n",
    "\n",
    "plt.plot(Y)\n",
    "plt.show()\n",
    "\n",
    "print(\"X:\", X.shape, \"Y:\", Y.shape)\n",
    "in_dim = X.shape[1]\n",
    "out_dim = Y.shape[1]\n",
    "\n",
    "xtrain, xtest, ytrain, ytest=train_test_split(X, Y, test_size=0.15)\n",
    "print(\"xtrain:\", xtrain.shape, \"ytrian:\", ytrain.shape)\n",
    "\n",
    "model = Sequential()\n",
    "model.add(Dense(100, input_dim=in_dim, activation=\"relu\"))\n",
    "model.add(Dense(32, activation=\"relu\"))\n",
    "model.add(Dense(out_dim))\n",
    "model.compile(loss=\"mse\", optimizer=\"adam\")\n",
    "model.summary()\n",
    " \n",
    "model.fit(xtrain, ytrain, epochs=100, batch_size=12, verbose=0)\n",
    " \n",
    "ypred = model.predict(xtest)\n",
    "print(\"y1 MSE:%.4f\" % mean_squared_error(ytest[:,0], ypred[:,0]))\n",
    "print(\"y2 MSE:%.4f\" % mean_squared_error(ytest[:,1], ypred[:,1]))\n",
    "\n",
    "x_ax = range(len(xtest))\n",
    "plt.scatter(x_ax, ytest[:,0],  s=6, label=\"y1-test\")\n",
    "plt.plot(x_ax, ypred[:,0], label=\"y1-pred\")\n",
    "plt.scatter(x_ax, ytest[:,1],  s=6, label=\"y2-test\")\n",
    "plt.plot(x_ax, ypred[:,1], label=\"y2-pred\")\n",
    "plt.legend()\n",
    "plt.show()"
   ]
  },
  {
   "cell_type": "code",
   "execution_count": null,
   "metadata": {},
   "outputs": [],
   "source": []
  },
  {
   "cell_type": "code",
   "execution_count": null,
   "metadata": {},
   "outputs": [],
   "source": [
    "# mlp for multi-output regression\n",
    "from numpy import mean\n",
    "from numpy import std\n",
    "from sklearn.datasets import make_regression\n",
    "from sklearn.model_selection import RepeatedKFold\n",
    "from keras.models import Sequential\n",
    "from keras.layers import Dense\n",
    " \n",
    "# get the dataset\n",
    "def get_dataset():\n",
    "\tX, y = make_regression(n_samples=1000, n_features=10, n_informative=5, n_targets=3, random_state=2)\n",
    "\treturn X, y\n",
    " \n",
    "# get the model\n",
    "def get_model(n_inputs, n_outputs):\n",
    "\tmodel = Sequential()\n",
    "\tmodel.add(Dense(20, input_dim=n_inputs, kernel_initializer='he_uniform', activation='relu'))\n",
    "\tmodel.add(Dense(n_outputs))\n",
    "\tmodel.compile(loss='mae', optimizer='adam')\n",
    "\treturn model\n",
    " \n",
    "# evaluate a model using repeated k-fold cross-validation\n",
    "def evaluate_model(X, y):\n",
    "\tresults = list()\n",
    "\tn_inputs, n_outputs = X.shape[1], y.shape[1]\n",
    "\t# define evaluation procedure\n",
    "\tcv = RepeatedKFold(n_splits=10, n_repeats=3, random_state=1)\n",
    "\t# enumerate folds\n",
    "\tfor train_ix, test_ix in cv.split(X):\n",
    "\t\t# prepare data\n",
    "\t\tX_train, X_test = X[train_ix], X[test_ix]\n",
    "\t\ty_train, y_test = y[train_ix], y[test_ix]\n",
    "\t\t# define model\n",
    "\t\tmodel = get_model(n_inputs, n_outputs)\n",
    "\t\t# fit model\n",
    "\t\tmodel.fit(X_train, y_train, verbose=0, epochs=100)\n",
    "\t\t# evaluate model on test set\n",
    "\t\tmae = model.evaluate(X_test, y_test, verbose=0)\n",
    "\t\t# store result\n",
    "\t\tprint('>%.3f' % mae)\n",
    "\t\tresults.append(mae)\n",
    "\treturn results\n",
    " \n",
    "# load dataset\n",
    "X, y = get_dataset()\n",
    "# evaluate model\n",
    "results = evaluate_model(X, y)\n",
    "# summarize performance\n",
    "print('MAE: %.3f (%.3f)' % (mean(results), std(results)))\n"
   ]
  }
 ],
 "metadata": {
  "hide_input": false,
  "kernelspec": {
   "display_name": "Python 3",
   "language": "python",
   "name": "python3"
  },
  "language_info": {
   "codemirror_mode": {
    "name": "ipython",
    "version": 3
   },
   "file_extension": ".py",
   "mimetype": "text/x-python",
   "name": "python",
   "nbconvert_exporter": "python",
   "pygments_lexer": "ipython3",
   "version": "3.7.10"
  },
  "toc": {
   "base_numbering": 1,
   "nav_menu": {},
   "number_sections": true,
   "sideBar": true,
   "skip_h1_title": false,
   "title_cell": "Table of Contents",
   "title_sidebar": "Contents",
   "toc_cell": false,
   "toc_position": {},
   "toc_section_display": true,
   "toc_window_display": false
  },
  "varInspector": {
   "cols": {
    "lenName": 16,
    "lenType": 16,
    "lenVar": 40
   },
   "kernels_config": {
    "python": {
     "delete_cmd_postfix": "",
     "delete_cmd_prefix": "del ",
     "library": "var_list.py",
     "varRefreshCmd": "print(var_dic_list())"
    },
    "r": {
     "delete_cmd_postfix": ") ",
     "delete_cmd_prefix": "rm(",
     "library": "var_list.r",
     "varRefreshCmd": "cat(var_dic_list()) "
    }
   },
   "types_to_exclude": [
    "module",
    "function",
    "builtin_function_or_method",
    "instance",
    "_Feature"
   ],
   "window_display": false
  }
 },
 "nbformat": 4,
 "nbformat_minor": 1
}
