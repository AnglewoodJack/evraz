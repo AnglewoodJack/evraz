{
 "cells": [
  {
   "cell_type": "markdown",
   "metadata": {
    "collapsed": true,
    "pycharm": {
     "name": "#%% md\n"
    }
   },
   "source": [
    "# Исследование моделей"
   ]
  },
  {
   "cell_type": "markdown",
   "metadata": {},
   "source": [
    "## Библиотеки"
   ]
  },
  {
   "cell_type": "code",
   "execution_count": 1,
   "metadata": {
    "ExecuteTime": {
     "end_time": "2021-10-30T20:02:42.197944Z",
     "start_time": "2021-10-30T20:02:40.861486Z"
    },
    "pycharm": {
     "name": "#%%\n"
    }
   },
   "outputs": [
    {
     "data": {
      "text/html": [
       "<style type='text/css'>\n",
       ".datatable table.frame { margin-bottom: 0; }\n",
       ".datatable table.frame thead { border-bottom: none; }\n",
       ".datatable table.frame tr.coltypes td {  color: #FFFFFF;  line-height: 6px;  padding: 0 0.5em;}\n",
       ".datatable .bool    { background: #DDDD99; }\n",
       ".datatable .object  { background: #565656; }\n",
       ".datatable .int     { background: #5D9E5D; }\n",
       ".datatable .float   { background: #4040CC; }\n",
       ".datatable .str     { background: #CC4040; }\n",
       ".datatable .row_index {  background: var(--jp-border-color3);  border-right: 1px solid var(--jp-border-color0);  color: var(--jp-ui-font-color3);  font-size: 9px;}\n",
       ".datatable .frame tr.coltypes .row_index {  background: var(--jp-border-color0);}\n",
       ".datatable th:nth-child(2) { padding-left: 12px; }\n",
       ".datatable .hellipsis {  color: var(--jp-cell-editor-border-color);}\n",
       ".datatable .vellipsis {  background: var(--jp-layout-color0);  color: var(--jp-cell-editor-border-color);}\n",
       ".datatable .na {  color: var(--jp-cell-editor-border-color);  font-size: 80%;}\n",
       ".datatable .footer { font-size: 9px; }\n",
       ".datatable .frame_dimensions {  background: var(--jp-border-color3);  border-top: 1px solid var(--jp-border-color0);  color: var(--jp-ui-font-color3);  display: inline-block;  opacity: 0.6;  padding: 1px 10px 1px 5px;}\n",
       "</style>\n"
      ],
      "text/plain": [
       "<IPython.core.display.HTML object>"
      ]
     },
     "metadata": {},
     "output_type": "display_data"
    }
   ],
   "source": [
    "import os\n",
    "import numpy as np\n",
    "import pandas as pd\n",
    "import datatable as dt\n",
    "from typing import List, Union, Dict, Tuple\n",
    "\n",
    "from sklearn.pipeline import Pipeline\n",
    "from sklearn.compose import ColumnTransformer\n",
    "from sklearn.model_selection import GridSearchCV\n",
    "from sklearn.model_selection import train_test_split\n",
    "from sklearn.preprocessing import OneHotEncoder, StandardScaler, LabelEncoder\n",
    "from sklearn.metrics import mean_absolute_percentage_error, r2_score, mean_squared_error\n",
    "\n",
    "import seaborn as sns\n",
    "sns.set_style(\"whitegrid\")\n",
    "import matplotlib.pyplot as plt\n",
    "\n",
    "import warnings\n",
    "warnings.filterwarnings(\"ignore\", category=FutureWarning)\n",
    "\n",
    "pd.set_option('display.max_columns', None)\n",
    "# pd.set_option('display.max_rows', None)"
   ]
  },
  {
   "cell_type": "markdown",
   "metadata": {},
   "source": [
    "## Загрузка данных, предобработка"
   ]
  },
  {
   "cell_type": "code",
   "execution_count": 2,
   "metadata": {
    "ExecuteTime": {
     "end_time": "2021-10-30T20:02:42.230230Z",
     "start_time": "2021-10-30T20:02:42.221525Z"
    },
    "code_folding": []
   },
   "outputs": [],
   "source": [
    "# Пути к файлам с данными.\n",
    "chronom_train_path = os.path.join(os.path.dirname(os.getcwd()), 'data', 'chronom_train.csv')\n",
    "chronom_test_path = os.path.join(os.path.dirname(os.getcwd()), 'data', 'chronom_test.csv')\n",
    "\n",
    "chugun_train_path = os.path.join(os.path.dirname(os.getcwd()), 'data', 'chugun_train.csv')\n",
    "chugun_test_path = os.path.join(os.path.dirname(os.getcwd()), 'data', 'chugun_test.csv')\n",
    "\n",
    "gas_train_path = os.path.join(os.path.dirname(os.getcwd()), 'data', 'gas_train.csv')\n",
    "gas_test_path = os.path.join(os.path.dirname(os.getcwd()), 'data', 'gas_test.csv')\n",
    "\n",
    "lom_train_path = os.path.join(os.path.dirname(os.getcwd()), 'data', 'lom_train.csv')\n",
    "lom_test_path = os.path.join(os.path.dirname(os.getcwd()), 'data', 'lom_test.csv')\n",
    "\n",
    "plavki_train_path = os.path.join(os.path.dirname(os.getcwd()), 'data', 'plavki_train.csv')\n",
    "plavki_test_path = os.path.join(os.path.dirname(os.getcwd()), 'data', 'plavki_test.csv')\n",
    "\n",
    "produv_train_path = os.path.join(os.path.dirname(os.getcwd()), 'data', 'produv_train.csv')\n",
    "produv_test_path = os.path.join(os.path.dirname(os.getcwd()), 'data', 'produv_test.csv')\n",
    "\n",
    "sip_train_path = os.path.join(os.path.dirname(os.getcwd()), 'data', 'sip_train.csv')\n",
    "sip_test_path = os.path.join(os.path.dirname(os.getcwd()), 'data', 'sip_test.csv')\n",
    "\n",
    "target_path = os.path.join(os.path.dirname(os.getcwd()), 'data', 'target_train.csv')\n",
    "\n",
    "submission_path = os.path.join(os.path.dirname(os.getcwd()), 'data', 'sample_submission.csv')"
   ]
  },
  {
   "cell_type": "code",
   "execution_count": 3,
   "metadata": {
    "ExecuteTime": {
     "end_time": "2021-10-30T20:02:49.955171Z",
     "start_time": "2021-10-30T20:02:43.547677Z"
    }
   },
   "outputs": [],
   "source": [
    "# Загрузка данных.\n",
    "chronom_train = dt.fread(chronom_train_path).to_pandas()\n",
    "chronom_train.name = 'chronom_train'\n",
    "chronom_test = dt.fread(chronom_test_path).to_pandas()\n",
    "chronom_test.name = 'chronom_test'\n",
    "\n",
    "chugun_train = dt.fread(chugun_train_path).to_pandas()\n",
    "chugun_train.name = 'chugun_train'\n",
    "chugun_test = dt.fread(chugun_test_path).to_pandas()\n",
    "chugun_test.name = 'chugun_test'\n",
    "\n",
    "gas_train = dt.fread(gas_train_path).to_pandas()\n",
    "gas_train.name = 'gas_train'\n",
    "gas_test = dt.fread(gas_test_path).to_pandas()\n",
    "gas_test.name = 'gas_test'\n",
    "\n",
    "lom_train = dt.fread(lom_train_path).to_pandas()\n",
    "lom_train.name = 'lom_train'\n",
    "lom_test = dt.fread(lom_test_path).to_pandas()\n",
    "lom_test.name = 'lom_test'\n",
    "\n",
    "plavki_train = dt.fread(plavki_train_path).to_pandas()\n",
    "plavki_train.name = 'plavki_train'\n",
    "plavki_test = dt.fread(plavki_test_path).to_pandas()\n",
    "plavki_test.name = 'plavki_test'\n",
    "\n",
    "produv_train = dt.fread(produv_train_path).to_pandas()\n",
    "produv_train.name = 'produv_train'\n",
    "produv_test = dt.fread(produv_test_path).to_pandas()\n",
    "produv_test.name = 'produv_test'\n",
    "\n",
    "sip_train = dt.fread(sip_train_path).to_pandas()\n",
    "sip_train.name = 'sip_train'\n",
    "sip_test = dt.fread(sip_test_path).to_pandas()\n",
    "sip_test.name = 'v'\n",
    "\n",
    "target = dt.fread(target_path).to_pandas()\n",
    "target.name = 'target'\n",
    "\n",
    "submission = dt.fread(submission_path).to_pandas()\n",
    "submission.name = 'submission'"
   ]
  },
  {
   "cell_type": "code",
   "execution_count": 4,
   "metadata": {
    "ExecuteTime": {
     "end_time": "2021-10-30T20:02:50.432404Z",
     "start_time": "2021-10-30T20:02:50.429909Z"
    }
   },
   "outputs": [],
   "source": [
    "# Списки загруженных файлов.\n",
    "all_train = [chronom_train, chugun_train, gas_train, lom_train, plavki_train, produv_train, sip_train, target]\n",
    "all_test = [chronom_test, chugun_test, gas_test, lom_test, plavki_test, produv_test, sip_test]"
   ]
  },
  {
   "cell_type": "markdown",
   "metadata": {},
   "source": [
    "### Обучающая выборка"
   ]
  },
  {
   "cell_type": "code",
   "execution_count": 5,
   "metadata": {
    "ExecuteTime": {
     "end_time": "2021-10-30T20:02:51.168029Z",
     "start_time": "2021-10-30T20:02:51.163562Z"
    }
   },
   "outputs": [],
   "source": [
    "def check_shapes_and_missings(dfs: List[pd.DataFrame]) -> None:\n",
    "    # Статистика по всем загруженным файлам.\n",
    "    cols = ['Таблица', 'Объекты', 'Признаки', 'Пропуски (всего)', 'Признак с аибольшим числом пропусков']\n",
    "    stats = pd.DataFrame(columns=cols)\n",
    "    \n",
    "    for df in dfs:\n",
    "        stats = stats.append(\n",
    "            pd.DataFrame(\n",
    "                data=[[df.name, df.shape[0], df.shape[1], \n",
    "                       df.isna().sum().sum(), (df.count().idxmin(), df[df.count().idxmin()].isna().sum())]],\n",
    "                columns=cols)\n",
    "        )\n",
    "    \n",
    "    return stats.reset_index(drop=True) "
   ]
  },
  {
   "cell_type": "code",
   "execution_count": 6,
   "metadata": {
    "ExecuteTime": {
     "end_time": "2021-10-30T20:02:53.629972Z",
     "start_time": "2021-10-30T20:02:51.903337Z"
    }
   },
   "outputs": [
    {
     "data": {
      "text/html": [
       "<div>\n",
       "<style scoped>\n",
       "    .dataframe tbody tr th:only-of-type {\n",
       "        vertical-align: middle;\n",
       "    }\n",
       "\n",
       "    .dataframe tbody tr th {\n",
       "        vertical-align: top;\n",
       "    }\n",
       "\n",
       "    .dataframe thead th {\n",
       "        text-align: right;\n",
       "    }\n",
       "</style>\n",
       "<table border=\"1\" class=\"dataframe\">\n",
       "  <thead>\n",
       "    <tr style=\"text-align: right;\">\n",
       "      <th></th>\n",
       "      <th>Таблица</th>\n",
       "      <th>Объекты</th>\n",
       "      <th>Признаки</th>\n",
       "      <th>Пропуски (всего)</th>\n",
       "      <th>Признак с аибольшим числом пропусков</th>\n",
       "    </tr>\n",
       "  </thead>\n",
       "  <tbody>\n",
       "    <tr>\n",
       "      <th>0</th>\n",
       "      <td>chronom_train</td>\n",
       "      <td>34406</td>\n",
       "      <td>7</td>\n",
       "      <td>31490</td>\n",
       "      <td>(O2, 31490)</td>\n",
       "    </tr>\n",
       "    <tr>\n",
       "      <th>1</th>\n",
       "      <td>chugun_train</td>\n",
       "      <td>2063</td>\n",
       "      <td>13</td>\n",
       "      <td>0</td>\n",
       "      <td>(NPLV, 0)</td>\n",
       "    </tr>\n",
       "    <tr>\n",
       "      <th>2</th>\n",
       "      <td>gas_train</td>\n",
       "      <td>6468018</td>\n",
       "      <td>13</td>\n",
       "      <td>0</td>\n",
       "      <td>(NPLV, 0)</td>\n",
       "    </tr>\n",
       "    <tr>\n",
       "      <th>3</th>\n",
       "      <td>lom_train</td>\n",
       "      <td>6376</td>\n",
       "      <td>4</td>\n",
       "      <td>0</td>\n",
       "      <td>(NPLV, 0)</td>\n",
       "    </tr>\n",
       "    <tr>\n",
       "      <th>4</th>\n",
       "      <td>plavki_train</td>\n",
       "      <td>2137</td>\n",
       "      <td>10</td>\n",
       "      <td>0</td>\n",
       "      <td>(NPLV, 0)</td>\n",
       "    </tr>\n",
       "    <tr>\n",
       "      <th>5</th>\n",
       "      <td>produv_train</td>\n",
       "      <td>4729802</td>\n",
       "      <td>4</td>\n",
       "      <td>0</td>\n",
       "      <td>(NPLV, 0)</td>\n",
       "    </tr>\n",
       "    <tr>\n",
       "      <th>6</th>\n",
       "      <td>sip_train</td>\n",
       "      <td>31584</td>\n",
       "      <td>5</td>\n",
       "      <td>0</td>\n",
       "      <td>(NPLV, 0)</td>\n",
       "    </tr>\n",
       "    <tr>\n",
       "      <th>7</th>\n",
       "      <td>target</td>\n",
       "      <td>2063</td>\n",
       "      <td>3</td>\n",
       "      <td>2</td>\n",
       "      <td>(C, 2)</td>\n",
       "    </tr>\n",
       "  </tbody>\n",
       "</table>\n",
       "</div>"
      ],
      "text/plain": [
       "         Таблица  Объекты Признаки Пропуски (всего)  \\\n",
       "0  chronom_train    34406        7            31490   \n",
       "1   chugun_train     2063       13                0   \n",
       "2      gas_train  6468018       13                0   \n",
       "3      lom_train     6376        4                0   \n",
       "4   plavki_train     2137       10                0   \n",
       "5   produv_train  4729802        4                0   \n",
       "6      sip_train    31584        5                0   \n",
       "7         target     2063        3                2   \n",
       "\n",
       "  Признак с аибольшим числом пропусков  \n",
       "0                          (O2, 31490)  \n",
       "1                            (NPLV, 0)  \n",
       "2                            (NPLV, 0)  \n",
       "3                            (NPLV, 0)  \n",
       "4                            (NPLV, 0)  \n",
       "5                            (NPLV, 0)  \n",
       "6                            (NPLV, 0)  \n",
       "7                               (C, 2)  "
      ]
     },
     "execution_count": 6,
     "metadata": {},
     "output_type": "execute_result"
    }
   ],
   "source": [
    "check_shapes_and_missings(all_train)"
   ]
  },
  {
   "cell_type": "code",
   "execution_count": 9,
   "metadata": {
    "ExecuteTime": {
     "end_time": "2021-10-30T20:02:58.369469Z",
     "start_time": "2021-10-30T20:02:55.906213Z"
    }
   },
   "outputs": [],
   "source": [
    "# Преобразовать время до секунд.\n",
    "produv_train['SEC'] = pd.to_datetime(produv_train['SEC']).astype('datetime64[s]')\n",
    "gas_train['Time'] = pd.to_datetime(gas_train['Time']).astype('datetime64[s]')"
   ]
  },
  {
   "cell_type": "code",
   "execution_count": 10,
   "metadata": {
    "ExecuteTime": {
     "end_time": "2021-10-30T20:03:04.461470Z",
     "start_time": "2021-10-30T20:02:59.116140Z"
    }
   },
   "outputs": [],
   "source": [
    "# Соединить gas и produv по inner join.\n",
    "produv_gas_combined = pd.merge(produv_train, gas_train, how='inner', \n",
    "                               left_on=['NPLV', 'SEC'], right_on=['NPLV', 'Time'])"
   ]
  },
  {
   "cell_type": "code",
   "execution_count": 11,
   "metadata": {
    "ExecuteTime": {
     "end_time": "2021-10-30T20:03:06.825455Z",
     "start_time": "2021-10-30T20:03:05.272398Z"
    }
   },
   "outputs": [],
   "source": [
    "# Отобрать процесс продувки для каждой группы из cronom.\n",
    "chronom_groups = chronom_train.groupby([\"NPLV\"])\n",
    "cronom_produv = chronom_groups.apply(lambda g: g[g['NOP'] == 'Продувка']).reset_index(drop=True)\n",
    "# Отобрать время окночания операции по группам.\n",
    "cronom_produv = cronom_produv[['NPLV', 'VR_KON']]\n",
    "cronom_produv['VR_KON'] = cronom_produv['VR_KON'].astype('datetime64[s]')"
   ]
  },
  {
   "cell_type": "code",
   "execution_count": 12,
   "metadata": {
    "ExecuteTime": {
     "end_time": "2021-10-30T20:03:07.947306Z",
     "start_time": "2021-10-30T20:03:07.616440Z"
    }
   },
   "outputs": [],
   "source": [
    "# Соединить produv_gas_combined и cronom_produv по inner join.\n",
    "prod_gas_cron = pd.merge(produv_gas_combined, cronom_produv, how='inner', \n",
    "                         left_on=['NPLV'], right_on=['NPLV'])"
   ]
  },
  {
   "cell_type": "code",
   "execution_count": 13,
   "metadata": {
    "ExecuteTime": {
     "end_time": "2021-10-30T20:03:12.447061Z",
     "start_time": "2021-10-30T20:03:08.801604Z"
    }
   },
   "outputs": [],
   "source": [
    "# Обрезать данные по времени завершения продувки.\n",
    "groups_pgc = prod_gas_cron.groupby(['NPLV'])\n",
    "pgc_cut = groups_pgc.apply(lambda g: g[g['SEC'] <= g['VR_KON']]).reset_index(drop=True)"
   ]
  },
  {
   "cell_type": "code",
   "execution_count": 17,
   "metadata": {
    "ExecuteTime": {
     "end_time": "2021-10-30T20:07:29.756557Z",
     "start_time": "2021-10-30T20:07:29.637633Z"
    }
   },
   "outputs": [],
   "source": [
    "# Отобрать последние 500 записей по времени перед окончанием процесса продувки.\n",
    "pgc_selected = pgc_cut.groupby(['NPLV']).tail(500)"
   ]
  },
  {
   "cell_type": "code",
   "execution_count": 25,
   "metadata": {
    "ExecuteTime": {
     "end_time": "2021-10-30T20:17:23.101041Z",
     "start_time": "2021-10-30T20:17:22.811010Z"
    }
   },
   "outputs": [],
   "source": [
    "# Отбросить плавки с количеством записей меенше 500.\n",
    "pgc_selected = pgc_selected.groupby('NPLV').filter(lambda x: x.shape[0] == 500)"
   ]
  },
  {
   "cell_type": "code",
   "execution_count": 27,
   "metadata": {
    "ExecuteTime": {
     "end_time": "2021-10-30T20:19:31.539057Z",
     "start_time": "2021-10-30T20:19:31.402995Z"
    }
   },
   "outputs": [],
   "source": [
    "# Удалить лишнии признаки.\n",
    "pgc_selected = pgc_selected.drop(columns=['SEC', 'VR_KON']).reset_index(drop=True)"
   ]
  },
  {
   "cell_type": "code",
   "execution_count": 49,
   "metadata": {
    "ExecuteTime": {
     "end_time": "2021-10-30T20:40:10.393388Z",
     "start_time": "2021-10-30T20:40:09.823744Z"
    }
   },
   "outputs": [],
   "source": [
    "# Сортировка.\n",
    "pgc = pgc_selected.sort_values(by=['Time', 'NPLV'])"
   ]
  },
  {
   "cell_type": "code",
   "execution_count": 50,
   "metadata": {
    "ExecuteTime": {
     "end_time": "2021-10-30T20:42:04.704649Z",
     "start_time": "2021-10-30T20:41:56.450084Z"
    }
   },
   "outputs": [],
   "source": [
    "# Перевести время в длительность процесса.\n",
    "pgc['min_group_time'] = pgc.groupby(['NPLV'])['Time'].transform('min')\n",
    "pgc['duration'] = (pgc.Time - pgc.min_group_time).dt.components['seconds']\n",
    "pgc = pgc.drop(columns=['min_group_time', 'Time'])"
   ]
  },
  {
   "cell_type": "code",
   "execution_count": 84,
   "metadata": {
    "ExecuteTime": {
     "end_time": "2021-10-30T21:06:09.979018Z",
     "start_time": "2021-10-30T21:06:09.862944Z"
    }
   },
   "outputs": [
    {
     "data": {
      "text/html": [
       "<div>\n",
       "<style scoped>\n",
       "    .dataframe tbody tr th:only-of-type {\n",
       "        vertical-align: middle;\n",
       "    }\n",
       "\n",
       "    .dataframe tbody tr th {\n",
       "        vertical-align: top;\n",
       "    }\n",
       "\n",
       "    .dataframe thead th {\n",
       "        text-align: right;\n",
       "    }\n",
       "</style>\n",
       "<table border=\"1\" class=\"dataframe\">\n",
       "  <thead>\n",
       "    <tr style=\"text-align: right;\">\n",
       "      <th></th>\n",
       "      <th>NPLV</th>\n",
       "      <th>RAS</th>\n",
       "      <th>POL</th>\n",
       "      <th>V</th>\n",
       "      <th>T</th>\n",
       "      <th>O2</th>\n",
       "      <th>N2</th>\n",
       "      <th>H2</th>\n",
       "      <th>CO2</th>\n",
       "      <th>CO</th>\n",
       "      <th>AR</th>\n",
       "      <th>T фурмы 1</th>\n",
       "      <th>T фурмы 2</th>\n",
       "      <th>O2_pressure</th>\n",
       "      <th>duration</th>\n",
       "    </tr>\n",
       "  </thead>\n",
       "  <tbody>\n",
       "    <tr>\n",
       "      <th>0</th>\n",
       "      <td>510008</td>\n",
       "      <td>906.666667</td>\n",
       "      <td>1.680000</td>\n",
       "      <td>214087.218750</td>\n",
       "      <td>802.430542</td>\n",
       "      <td>0.573333</td>\n",
       "      <td>43.380001</td>\n",
       "      <td>2.14</td>\n",
       "      <td>25.980000</td>\n",
       "      <td>27.809999</td>\n",
       "      <td>0.67</td>\n",
       "      <td>0.000000</td>\n",
       "      <td>0.000000</td>\n",
       "      <td>13.382523</td>\n",
       "      <td>0</td>\n",
       "    </tr>\n",
       "    <tr>\n",
       "      <th>1</th>\n",
       "      <td>510008</td>\n",
       "      <td>906.833333</td>\n",
       "      <td>1.657500</td>\n",
       "      <td>213762.593750</td>\n",
       "      <td>805.902771</td>\n",
       "      <td>0.630667</td>\n",
       "      <td>43.750000</td>\n",
       "      <td>2.07</td>\n",
       "      <td>26.080000</td>\n",
       "      <td>27.430000</td>\n",
       "      <td>0.68</td>\n",
       "      <td>0.000000</td>\n",
       "      <td>0.000000</td>\n",
       "      <td>13.382523</td>\n",
       "      <td>2</td>\n",
       "    </tr>\n",
       "    <tr>\n",
       "      <th>2</th>\n",
       "      <td>510008</td>\n",
       "      <td>907.000000</td>\n",
       "      <td>1.635000</td>\n",
       "      <td>213111.859375</td>\n",
       "      <td>806.944458</td>\n",
       "      <td>0.688000</td>\n",
       "      <td>43.750000</td>\n",
       "      <td>2.07</td>\n",
       "      <td>26.080000</td>\n",
       "      <td>27.430000</td>\n",
       "      <td>0.68</td>\n",
       "      <td>0.000000</td>\n",
       "      <td>0.000000</td>\n",
       "      <td>13.389757</td>\n",
       "      <td>4</td>\n",
       "    </tr>\n",
       "    <tr>\n",
       "      <th>3</th>\n",
       "      <td>510008</td>\n",
       "      <td>907.166667</td>\n",
       "      <td>1.612500</td>\n",
       "      <td>213111.859375</td>\n",
       "      <td>809.027771</td>\n",
       "      <td>0.745333</td>\n",
       "      <td>44.220001</td>\n",
       "      <td>2.02</td>\n",
       "      <td>26.320000</td>\n",
       "      <td>26.760000</td>\n",
       "      <td>0.68</td>\n",
       "      <td>0.000000</td>\n",
       "      <td>0.000000</td>\n",
       "      <td>13.389757</td>\n",
       "      <td>6</td>\n",
       "    </tr>\n",
       "    <tr>\n",
       "      <th>4</th>\n",
       "      <td>510008</td>\n",
       "      <td>907.333333</td>\n",
       "      <td>1.590000</td>\n",
       "      <td>213979.046875</td>\n",
       "      <td>810.763916</td>\n",
       "      <td>0.802667</td>\n",
       "      <td>44.130001</td>\n",
       "      <td>1.98</td>\n",
       "      <td>26.320000</td>\n",
       "      <td>26.900000</td>\n",
       "      <td>0.67</td>\n",
       "      <td>0.000000</td>\n",
       "      <td>0.000000</td>\n",
       "      <td>13.375290</td>\n",
       "      <td>8</td>\n",
       "    </tr>\n",
       "    <tr>\n",
       "      <th>...</th>\n",
       "      <td>...</td>\n",
       "      <td>...</td>\n",
       "      <td>...</td>\n",
       "      <td>...</td>\n",
       "      <td>...</td>\n",
       "      <td>...</td>\n",
       "      <td>...</td>\n",
       "      <td>...</td>\n",
       "      <td>...</td>\n",
       "      <td>...</td>\n",
       "      <td>...</td>\n",
       "      <td>...</td>\n",
       "      <td>...</td>\n",
       "      <td>...</td>\n",
       "      <td>...</td>\n",
       "    </tr>\n",
       "    <tr>\n",
       "      <th>1023495</th>\n",
       "      <td>512322</td>\n",
       "      <td>138.000000</td>\n",
       "      <td>6.530000</td>\n",
       "      <td>207944.078125</td>\n",
       "      <td>850.347229</td>\n",
       "      <td>0.000000</td>\n",
       "      <td>55.459999</td>\n",
       "      <td>0.97</td>\n",
       "      <td>27.750000</td>\n",
       "      <td>15.060000</td>\n",
       "      <td>0.76</td>\n",
       "      <td>38.975697</td>\n",
       "      <td>26.620371</td>\n",
       "      <td>14.793113</td>\n",
       "      <td>42</td>\n",
       "    </tr>\n",
       "    <tr>\n",
       "      <th>1023496</th>\n",
       "      <td>512322</td>\n",
       "      <td>112.000000</td>\n",
       "      <td>6.540000</td>\n",
       "      <td>209938.265625</td>\n",
       "      <td>851.388855</td>\n",
       "      <td>0.000000</td>\n",
       "      <td>56.540001</td>\n",
       "      <td>0.88</td>\n",
       "      <td>28.059999</td>\n",
       "      <td>13.760000</td>\n",
       "      <td>0.74</td>\n",
       "      <td>38.888889</td>\n",
       "      <td>26.620371</td>\n",
       "      <td>14.800347</td>\n",
       "      <td>44</td>\n",
       "    </tr>\n",
       "    <tr>\n",
       "      <th>1023497</th>\n",
       "      <td>512322</td>\n",
       "      <td>92.000000</td>\n",
       "      <td>6.620000</td>\n",
       "      <td>209054.296875</td>\n",
       "      <td>852.777771</td>\n",
       "      <td>0.000000</td>\n",
       "      <td>56.669998</td>\n",
       "      <td>0.83</td>\n",
       "      <td>28.270000</td>\n",
       "      <td>13.470000</td>\n",
       "      <td>0.76</td>\n",
       "      <td>38.831020</td>\n",
       "      <td>26.620371</td>\n",
       "      <td>14.822048</td>\n",
       "      <td>46</td>\n",
       "    </tr>\n",
       "    <tr>\n",
       "      <th>1023498</th>\n",
       "      <td>512322</td>\n",
       "      <td>75.000000</td>\n",
       "      <td>8.320000</td>\n",
       "      <td>210708.687500</td>\n",
       "      <td>853.819458</td>\n",
       "      <td>0.000000</td>\n",
       "      <td>56.860001</td>\n",
       "      <td>0.77</td>\n",
       "      <td>28.219999</td>\n",
       "      <td>13.410000</td>\n",
       "      <td>0.75</td>\n",
       "      <td>38.773148</td>\n",
       "      <td>26.620371</td>\n",
       "      <td>14.822048</td>\n",
       "      <td>48</td>\n",
       "    </tr>\n",
       "    <tr>\n",
       "      <th>1023499</th>\n",
       "      <td>512322</td>\n",
       "      <td>75.000750</td>\n",
       "      <td>8.319991</td>\n",
       "      <td>211804.406250</td>\n",
       "      <td>853.819458</td>\n",
       "      <td>0.000000</td>\n",
       "      <td>56.860001</td>\n",
       "      <td>0.77</td>\n",
       "      <td>28.219999</td>\n",
       "      <td>13.410000</td>\n",
       "      <td>0.75</td>\n",
       "      <td>38.744213</td>\n",
       "      <td>26.620371</td>\n",
       "      <td>14.829283</td>\n",
       "      <td>50</td>\n",
       "    </tr>\n",
       "  </tbody>\n",
       "</table>\n",
       "<p>1022500 rows × 15 columns</p>\n",
       "</div>"
      ],
      "text/plain": [
       "           NPLV         RAS       POL              V           T        O2  \\\n",
       "0        510008  906.666667  1.680000  214087.218750  802.430542  0.573333   \n",
       "1        510008  906.833333  1.657500  213762.593750  805.902771  0.630667   \n",
       "2        510008  907.000000  1.635000  213111.859375  806.944458  0.688000   \n",
       "3        510008  907.166667  1.612500  213111.859375  809.027771  0.745333   \n",
       "4        510008  907.333333  1.590000  213979.046875  810.763916  0.802667   \n",
       "...         ...         ...       ...            ...         ...       ...   \n",
       "1023495  512322  138.000000  6.530000  207944.078125  850.347229  0.000000   \n",
       "1023496  512322  112.000000  6.540000  209938.265625  851.388855  0.000000   \n",
       "1023497  512322   92.000000  6.620000  209054.296875  852.777771  0.000000   \n",
       "1023498  512322   75.000000  8.320000  210708.687500  853.819458  0.000000   \n",
       "1023499  512322   75.000750  8.319991  211804.406250  853.819458  0.000000   \n",
       "\n",
       "                N2    H2        CO2         CO    AR  T фурмы 1  T фурмы 2  \\\n",
       "0        43.380001  2.14  25.980000  27.809999  0.67   0.000000   0.000000   \n",
       "1        43.750000  2.07  26.080000  27.430000  0.68   0.000000   0.000000   \n",
       "2        43.750000  2.07  26.080000  27.430000  0.68   0.000000   0.000000   \n",
       "3        44.220001  2.02  26.320000  26.760000  0.68   0.000000   0.000000   \n",
       "4        44.130001  1.98  26.320000  26.900000  0.67   0.000000   0.000000   \n",
       "...            ...   ...        ...        ...   ...        ...        ...   \n",
       "1023495  55.459999  0.97  27.750000  15.060000  0.76  38.975697  26.620371   \n",
       "1023496  56.540001  0.88  28.059999  13.760000  0.74  38.888889  26.620371   \n",
       "1023497  56.669998  0.83  28.270000  13.470000  0.76  38.831020  26.620371   \n",
       "1023498  56.860001  0.77  28.219999  13.410000  0.75  38.773148  26.620371   \n",
       "1023499  56.860001  0.77  28.219999  13.410000  0.75  38.744213  26.620371   \n",
       "\n",
       "         O2_pressure  duration  \n",
       "0          13.382523         0  \n",
       "1          13.382523         2  \n",
       "2          13.389757         4  \n",
       "3          13.389757         6  \n",
       "4          13.375290         8  \n",
       "...              ...       ...  \n",
       "1023495    14.793113        42  \n",
       "1023496    14.800347        44  \n",
       "1023497    14.822048        46  \n",
       "1023498    14.822048        48  \n",
       "1023499    14.829283        50  \n",
       "\n",
       "[1022500 rows x 15 columns]"
      ]
     },
     "execution_count": 84,
     "metadata": {},
     "output_type": "execute_result"
    }
   ],
   "source": [
    "# Перевести время в длительность процесса.\n",
    "pgc = pgc[~pgc[\"NPLV\"].isin(target[target['C'].isna()][\"NPLV\"].values)]"
   ]
  },
  {
   "cell_type": "code",
   "execution_count": null,
   "metadata": {},
   "outputs": [],
   "source": []
  },
  {
   "cell_type": "code",
   "execution_count": 72,
   "metadata": {
    "ExecuteTime": {
     "end_time": "2021-10-30T21:00:59.350754Z",
     "start_time": "2021-10-30T21:00:54.815093Z"
    }
   },
   "outputs": [
    {
     "name": "stdout",
     "output_type": "stream",
     "text": [
      "CPU times: user 4.12 s, sys: 367 ms, total: 4.48 s\n",
      "Wall time: 4.53 s\n"
     ]
    }
   ],
   "source": [
    "%%time\n",
    "# Привеести к виду, необходимому для LSTM-модели.\n",
    "temp = pgc.copy()\n",
    "temp[\"count\"] = temp.groupby(\"NPLV\")[\"duration\"].cumcount()\n",
    "mux = pd.MultiIndex.from_product(\n",
    "    [temp[\"NPLV\"].unique(), range(max(temp[\"count\"]+1))], names=[\"NPLV\",\"count\"])\n",
    "temp = temp.set_index([\"NPLV\",\"count\"]).reindex(mux, fill_value=0)\n",
    "numpy_array = np.array(temp.groupby(level=0).apply(pd.Series.tolist).values.tolist())"
   ]
  },
  {
   "cell_type": "code",
   "execution_count": 73,
   "metadata": {
    "ExecuteTime": {
     "end_time": "2021-10-30T21:01:30.780685Z",
     "start_time": "2021-10-30T21:01:30.776016Z"
    }
   },
   "outputs": [
    {
     "data": {
      "text/plain": [
       "(2047, 500, 14)"
      ]
     },
     "execution_count": 73,
     "metadata": {},
     "output_type": "execute_result"
    }
   ],
   "source": [
    "# Проверка.\n",
    "numpy_array.shape"
   ]
  },
  {
   "cell_type": "code",
   "execution_count": null,
   "metadata": {},
   "outputs": [],
   "source": [
    "# Reshape all datasets to fit into models.\n",
    "X_train_flat = X_train.reshape((X_train.shape[0], -1), order='F')\n",
    "X_test_flat = X_test.reshape((X_test.shape[0], -1), order='F')\n",
    "y_train_flat = y_temp.values\n",
    "# Convert numpy array of targets into 1D categorival Pandas DataFrame.\n",
    "y_temp_test = pd.DataFrame(data=[int(np.where(x==1)[0]) for x in y_test])\n",
    "y_test_flat = y_temp_test.values\n",
    "\n",
    "# Fit the model.\n",
    "cb.fit(X_train_flat, y_train_flat.ravel(), plot=True, eval_set=(X_test_flat, y_test_flat))"
   ]
  },
  {
   "cell_type": "markdown",
   "metadata": {},
   "source": [
    "## EDA и очистка данных"
   ]
  },
  {
   "cell_type": "markdown",
   "metadata": {},
   "source": [
    "### Типы данных и пропуски"
   ]
  },
  {
   "cell_type": "code",
   "execution_count": 32,
   "metadata": {
    "ExecuteTime": {
     "end_time": "2021-10-27T19:07:03.706694Z",
     "start_time": "2021-10-27T19:07:03.704611Z"
    },
    "scrolled": false
   },
   "outputs": [],
   "source": [
    "# Типы данных.\n",
    "# data.dtypes"
   ]
  },
  {
   "cell_type": "code",
   "execution_count": 17,
   "metadata": {
    "ExecuteTime": {
     "end_time": "2021-10-29T13:51:42.289429Z",
     "start_time": "2021-10-29T13:51:42.278387Z"
    }
   },
   "outputs": [],
   "source": [
    "# Преобразование даты.\n",
    "data.date = pd.to_datetime(data.date)"
   ]
  },
  {
   "cell_type": "code",
   "execution_count": 27,
   "metadata": {
    "ExecuteTime": {
     "end_time": "2021-10-29T13:54:48.530682Z",
     "start_time": "2021-10-29T13:54:48.499654Z"
    }
   },
   "outputs": [],
   "source": [
    "# Время, прошедшее с начала процесса плавки (для каждой плавки).\n",
    "data['pricess_time'] = data['date'] - data.groupby('44')['date'].transform('min')\n",
    "# Разница между мимнимальнй датой в датасете и датой в тякущей ячейке.\n",
    "data['period_from_start'] = (data.date - data.date.min()).dt.components['days'] # .components['hours/minutes/seconds']\n",
    "# Ординальная дата.\n",
    "data['ordinal_date'] = data.date.apply(lambda x: x.toordinal())\n",
    "# Элементы даты.\n",
    "data['year'] = data.date.dt.year\n",
    "data['month'] = data.date.dt.month\n",
    "data['week'] = data.date.dt.week\n",
    "data['year_day'] = data.date.dt.dayofyear\n",
    "data['month_day'] = data.date.dt.day\n",
    "data['week_day'] = data.date.dt.dayofweek\n",
    "# Время (с учетом 24-часов)\n"
   ]
  },
  {
   "cell_type": "code",
   "execution_count": null,
   "metadata": {},
   "outputs": [],
   "source": []
  },
  {
   "cell_type": "markdown",
   "metadata": {},
   "source": [
    "## Модели"
   ]
  },
  {
   "cell_type": "markdown",
   "metadata": {},
   "source": [
    "### Классические"
   ]
  },
  {
   "cell_type": "code",
   "execution_count": null,
   "metadata": {},
   "outputs": [],
   "source": [
    "# Линейная регрессия с L2-регуляризацией.\n",
    "from sklearn.linear_model import Ridge\n",
    "# Случайный лес.\n",
    "from sklearn.ensemble import RandomForestRegressor\n",
    "# Бустниги.\n",
    "from catboost import CatBoostRegressor\n",
    "from xgboost import XGBRegressor\n",
    "\n",
    "# Мультитаргет-регрессия.\n",
    "from sklearn.multioutput import MultiOutputRegressor"
   ]
  },
  {
   "cell_type": "code",
   "execution_count": null,
   "metadata": {},
   "outputs": [],
   "source": [
    "# Пример мультитаргет-регрессия.\n",
    "ridge = Ridge()\n",
    "model = MultiOutputRegressor(estimator=ridge)\n",
    "model.fit(X_train, y_train)\n",
    "\n",
    "score = model.score(X_train, y_train)\n",
    "print(\"Training score:\", score)\n",
    "\n",
    "y_pred = model.predict(X_test)"
   ]
  },
  {
   "cell_type": "markdown",
   "metadata": {},
   "source": [
    "## Мета-алгоритмы"
   ]
  },
  {
   "cell_type": "code",
   "execution_count": null,
   "metadata": {},
   "outputs": [],
   "source": [
    "# Голосование.\n",
    "from sklearn.ensemble import VotingRegressor\n",
    "# Пример.\n",
    "voting_algorithm = VotingRegressor(\n",
    "    [('CB', CatBoostRegressor()), ('XGB', XGBRegressor())]\n",
    ")\n",
    "\n",
    "y_pred = voting_algorithm.fit(X_train, y_train).predict(X_test)"
   ]
  },
  {
   "cell_type": "code",
   "execution_count": null,
   "metadata": {},
   "outputs": [],
   "source": [
    "# Бэггинг.\n",
    "from sklearn.ensemble import BaggingRegressor\n",
    "# Пример.\n",
    "bagging = BaggingRegressor(base_estimator=Ridge(), n_estimators=10, random_state=0).fit(X, y)\n",
    "\n",
    "y_pred = bagging.predict(X_test)"
   ]
  },
  {
   "cell_type": "code",
   "execution_count": null,
   "metadata": {},
   "outputs": [],
   "source": [
    "# Стэкинг.\n",
    "from sklearn.ensemble import StackingRegressor\n",
    "# Пример.\n",
    "estimators = [\n",
    "    ('CB', CatBoostRegressor()),\n",
    "    ('XGB', XGBRegressor())\n",
    "]\n",
    "reg = StackingRegressor(\n",
    "    estimators=estimators,\n",
    "    final_estimator=RandomForestRegressor(n_estimators=10, random_state=42)\n",
    ")\n",
    "\n",
    "reg.fit(X_train, y_train).score(X_test, y_test)"
   ]
  },
  {
   "cell_type": "markdown",
   "metadata": {},
   "source": [
    "### Нейросеть"
   ]
  },
  {
   "cell_type": "code",
   "execution_count": null,
   "metadata": {},
   "outputs": [],
   "source": [
    "from keras.models import Sequential\n",
    "from keras.layers import Dense"
   ]
  },
  {
   "cell_type": "markdown",
   "metadata": {},
   "source": [
    "## Метрики"
   ]
  },
  {
   "cell_type": "code",
   "execution_count": null,
   "metadata": {},
   "outputs": [],
   "source": [
    "def evraz_metric(answers: pd.DataFrame, user_csv: pd.DataFrame):\n",
    "    \"\"\"\n",
    "    Метрика оценки качества модели, предложенная организаторами EVRAZ.\n",
    "    :param answers: pd.DataFrame, датасет с реальными значениями целевых переменных.\n",
    "    :param user_csv: pd.DataFrame, датасет с предсказанными значениями целевых переменных.\n",
    "    :return:\n",
    "    \"\"\"\n",
    "    # Содержание углерода в металле.\n",
    "    delta_c = np.abs(np.array(answers['C']) - np.array(user_csv['C']))\n",
    "    hit_rate_c = np.int64(delta_c < 0.02)\n",
    "    # Температура металла.\n",
    "    delta_t = np.abs(np.array(answers['TST']) - np.array(user_csv['TST']))\n",
    "    hit_rate_t = np.int64(delta_t < 20)\n",
    "\n",
    "    N = np.size(answers['C'])\n",
    "\n",
    "    return np.sum(hit_rate_c + hit_rate_t) / 2 / N\n",
    "\n",
    "\n",
    "def median_absolute_percentage_error(y_true: np.array, y_pred: np.array) -> float:\n",
    "    return np.median(np.abs(y_pred-y_true)/y_true)\n",
    "\n",
    "\n",
    "def metrics_stat(y_true: np.array, y_pred: np.array) -> Dict[str, float]:\n",
    "    \"\"\"\n",
    "    Вывод основных метрик.\n",
    "    :param y_true: np.array, реальные значения целевой переменной.\n",
    "    :param y_pred: np.array, предсказанные значения целевой переменной.\n",
    "    :return: dict, словарь с названиями метрик и значениями\n",
    "    \"\"\"\n",
    "    mape = mean_absolute_percentage_error(y_true, y_pred)\n",
    "    mdape = median_absolute_percentage_error(y_true, y_pred)\n",
    "    rmse = mean_squared_error(y_true, y_pred, squared=False)\n",
    "    r2 = r2_score(y_true, y_pred)\n",
    "    return {'mape': mape, 'mdape': mdape, 'rmse': rmse, 'r2': r2}"
   ]
  },
  {
   "cell_type": "markdown",
   "metadata": {
    "pycharm": {
     "name": "#%% md\n"
    }
   },
   "source": [
    "## Пайплайн (классические модели)"
   ]
  },
  {
   "cell_type": "code",
   "execution_count": null,
   "metadata": {
    "pycharm": {
     "name": "#%%\n"
    }
   },
   "outputs": [],
   "source": [
    "scorer = make_scorer(mape, greater_is_better=False)\n",
    "\n",
    "lb = LabelEncoder().fit(x_train['building_type'].values)\n",
    "\n",
    "x_train['building_type'] = lb.transform(x_train['building_type'].values)\n",
    "x_test['building_type'] = lb.transform(x_test['building_type'].values)\n",
    "\n",
    "\n",
    "def hyperopt(estimator, params):\n",
    "    column_transformer = ColumnTransformer(  # OHE for cat, Scaler for real\n",
    "        transformers=[\n",
    "            ('real', StandardScaler(), real_features),\n",
    "            ('cat', OneHotEncoder(handle_unknown='ignore'), cat_features)\n",
    "\n",
    "        ], n_jobs=4\n",
    "    )\n",
    "\n",
    "    pipeline = Pipeline(  # column transformer and then model\n",
    "        steps=[\n",
    "            ('column_transformer', column_transformer),\n",
    "            ('model', estimator)\n",
    "\n",
    "        ]\n",
    "    )\n",
    "\n",
    "    grid = GridSearchCV(\n",
    "        estimator=pipeline,\n",
    "        param_grid=params,\n",
    "        scoring=scorer,\n",
    "        cv=3,\n",
    "        verbose=2\n",
    "    )\n",
    "\n",
    "    grid.fit(x_train, y_train)\n",
    "\n",
    "    # write best params to `best_params`\n",
    "    best_params = grid.best_params_\n",
    "\n",
    "\n",
    "    column_transformer = ColumnTransformer(  # OHE for cat, Scaler for real\n",
    "        transformers=[\n",
    "            ('real', StandardScaler(), real_features),\n",
    "            ('cat', OneHotEncoder(handle_unknown='ignore'), cat_features)\n",
    "\n",
    "        ], n_jobs=4\n",
    "    )\n",
    "\n",
    "    pipeline = Pipeline(  # column transformer and then model with `best_params` as params\n",
    "        steps=[\n",
    "            ('column_transformer', column_transformer),\n",
    "            ('model', estimator)\n",
    "\n",
    "        ]\n",
    "    )\n",
    "\n",
    "    pipeline.set_params(**best_params)\n",
    "    pipeline.fit(x_train, y_train)\n",
    "\n",
    "    score_train = mape(y_train, pipeline.predict(x_train))\n",
    "    score_test = mape(y_test, pipeline.predict(x_test))\n",
    "\n",
    "    return score_train, score_test, best_params"
   ]
  },
  {
   "cell_type": "code",
   "execution_count": null,
   "metadata": {
    "pycharm": {
     "name": "#%%\n"
    }
   },
   "outputs": [],
   "source": [
    "param_grid = {\n",
    "    'model__n_estimators': [10],\n",
    "    'model__learning_rate': [0.01, 0.1, 0.3, 0.5],\n",
    "    'model__min_samples_split': [2, 12, 500],\n",
    "    'model__max_depth': [5, 9, 12],\n",
    "    'model__subsample' : [0.5, 0.8, 1],\n",
    "}\n",
    "\n",
    "hyperopt(GradientBoostingRegressor(), param_grid)"
   ]
  },
  {
   "cell_type": "markdown",
   "metadata": {
    "pycharm": {
     "name": "#%% md\n"
    }
   },
   "source": [
    "## Sample 2"
   ]
  },
  {
   "cell_type": "code",
   "execution_count": null,
   "metadata": {
    "pycharm": {
     "name": "#%%\n"
    }
   },
   "outputs": [],
   "source": [
    "# Трансформеры данных\n",
    "numeric_transformer = Pipeline(steps=[\n",
    "    # ('imputer', SimpleImputer(strategy='median')), - можно было бы применить импьютер для заполнения пропусков\n",
    "    ('scaler', StandardScaler())])\n",
    "\n",
    "categorical_transformer = OneHotEncoder(handle_unknown='ignore')\n",
    "\n",
    "# Предобработка данных\n",
    "preprocessor = ColumnTransformer(\n",
    "    transformers=[\n",
    "        ('num', numeric_transformer, num_cols),\n",
    "        ('cat', categorical_transformer, cat_cols)])\n",
    "\n",
    "# Основной pipeline\n",
    "pipe = Pipeline(steps=[\n",
    "    ('preprocessor', preprocessor),\n",
    "    ('classifier', LogisticRegression(max_iter=1000))])\n",
    "\n",
    "# Отобразить pipeline\n",
    "set_config(display='diagram')\n",
    "pipe"
   ]
  },
  {
   "cell_type": "code",
   "execution_count": null,
   "metadata": {
    "pycharm": {
     "name": "#%%\n"
    }
   },
   "outputs": [],
   "source": [
    "# Параметры модели и преодобработки данных\n",
    "parameters = {\n",
    "    'preprocessor__num__scaler': [StandardScaler(), RobustScaler()],\n",
    "    'classifier__C': [100, 10, 1, 0.1, 0.01, 0.001]\n",
    "}"
   ]
  },
  {
   "cell_type": "code",
   "execution_count": null,
   "metadata": {
    "pycharm": {
     "name": "#%%\n"
    }
   },
   "outputs": [],
   "source": [
    "# Подбор параметров\n",
    "X_train, y_train = data[num_cols + cat_cols], data[target_col]\n",
    "cross_val = StratifiedShuffleSplit(n_splits=5,test_size=0.3,random_state=42)\n",
    "\n",
    "grid = GridSearchCV(pipe, parameters, cv=cross_val, scoring='roc_auc').fit(X_train, y_train)"
   ]
  },
  {
   "cell_type": "code",
   "execution_count": null,
   "metadata": {
    "pycharm": {
     "name": "#%%\n"
    }
   },
   "outputs": [],
   "source": [
    "print(\"Лучшие параметры:\", grid.best_params_)\n",
    "print(\"Лучший score:\", grid.best_score_)"
   ]
  },
  {
   "cell_type": "code",
   "execution_count": null,
   "metadata": {
    "pycharm": {
     "name": "#%%\n"
    }
   },
   "outputs": [],
   "source": [
    "# Модель\n",
    "model = CatBoostClassifier(iterations=100, # количество деревьев уменьшено до 100 для ускорения расчетов\n",
    "                           cat_features=cat_cols, # категориальные фичи\n",
    "                           eval_metric='AUC:hints=skip_train~false', # метрика\n",
    "                           verbose=False) # вывод инфорамации\n",
    "\n",
    "# Сетка для подбора параметров\n",
    "grid = {'learning_rate': [0.01, 0.03, 0.05, 0.1],\n",
    "        'depth': [4, 6, 10],\n",
    "        'l2_leaf_reg': [1, 3, 5, 7, 9]}\n",
    "\n",
    "# Поиск лучших параметров\n",
    "grid_search_result = model.grid_search(grid,\n",
    "                                       X=X_train,\n",
    "                                       y=y_train,\n",
    "                                       cv=5,\n",
    "                                       refit=True,\n",
    "                                       shuffle=True,\n",
    "                                       stratified=True,\n",
    "                                       verbose=False,\n",
    "                                       plot=True)"
   ]
  },
  {
   "cell_type": "code",
   "execution_count": null,
   "metadata": {
    "pycharm": {
     "name": "#%%\n"
    }
   },
   "outputs": [],
   "source": [
    "# CatBoost с лучшими параметрами\n",
    "best_boost = CatBoostClassifier(iterations=100,\n",
    "                                cat_features=cat_cols,\n",
    "                                custom_metric='AUC:hints=skip_train~false',\n",
    "                                verbose=False,\n",
    "                                **grid_search_result['params'])\n",
    "\n",
    "best_boost.fit(X_train, y_train)"
   ]
  },
  {
   "cell_type": "code",
   "execution_count": null,
   "metadata": {
    "pycharm": {
     "name": "#%%\n"
    }
   },
   "outputs": [],
   "source": [
    "# Результаты кросс-валидации\n",
    "pd.DataFrame(grid_search_result['cv_results'])"
   ]
  },
  {
   "cell_type": "code",
   "execution_count": null,
   "metadata": {
    "pycharm": {
     "name": "#%%\n"
    }
   },
   "outputs": [],
   "source": [
    "print(\"Лучшие параметры:\", grid_search_result['params'])\n",
    "print(\"Лучший score:\", 0.8740685544)"
   ]
  },
  {
   "cell_type": "markdown",
   "metadata": {},
   "source": [
    "## Пайплайн (нейросеть)"
   ]
  },
  {
   "cell_type": "code",
   "execution_count": null,
   "metadata": {},
   "outputs": [],
   "source": [
    "def create_data(n):\n",
    "    x1 = np.array([i/100+np.random.uniform(-1,3) for i in range(n)]).reshape(n,1)\n",
    "    x2 = np.array([i/100+np.random.uniform(-3,5)+2 for i in range(n)]).reshape(n,1)\n",
    "    x3 = np.array([i/100+np.random.uniform(-6,5)-3 for i in range(n)]).reshape(n,1)\n",
    "\n",
    "    y1= [x1[i]-x2[i]+x3[i]+np.random.uniform(-2,2) for i in range(n)]\n",
    "    y2= [x1[i]+x2[i]-x3[i]+5+np.random.uniform(-1,3) for i in range(n)]\n",
    "    X = np.hstack((x1, x2, x3))\n",
    "    Y = np.hstack((y1, y2))\n",
    "    return X, Y\n",
    "\n",
    "X, Y = create_data(n=450)\n",
    "\n",
    "plt.plot(Y)\n",
    "plt.show()\n",
    "\n",
    "print(\"X:\", X.shape, \"Y:\", Y.shape)\n",
    "in_dim = X.shape[1]\n",
    "out_dim = Y.shape[1]\n",
    "\n",
    "xtrain, xtest, ytrain, ytest=train_test_split(X, Y, test_size=0.15)\n",
    "print(\"xtrain:\", xtrain.shape, \"ytrian:\", ytrain.shape)\n",
    "\n",
    "model = Sequential()\n",
    "model.add(Dense(100, input_dim=in_dim, activation=\"relu\"))\n",
    "model.add(Dense(32, activation=\"relu\"))\n",
    "model.add(Dense(out_dim))\n",
    "model.compile(loss=\"mse\", optimizer=\"adam\")\n",
    "model.summary()\n",
    " \n",
    "model.fit(xtrain, ytrain, epochs=100, batch_size=12, verbose=0)\n",
    " \n",
    "ypred = model.predict(xtest)\n",
    "print(\"y1 MSE:%.4f\" % mean_squared_error(ytest[:,0], ypred[:,0]))\n",
    "print(\"y2 MSE:%.4f\" % mean_squared_error(ytest[:,1], ypred[:,1]))\n",
    "\n",
    "x_ax = range(len(xtest))\n",
    "plt.scatter(x_ax, ytest[:,0],  s=6, label=\"y1-test\")\n",
    "plt.plot(x_ax, ypred[:,0], label=\"y1-pred\")\n",
    "plt.scatter(x_ax, ytest[:,1],  s=6, label=\"y2-test\")\n",
    "plt.plot(x_ax, ypred[:,1], label=\"y2-pred\")\n",
    "plt.legend()\n",
    "plt.show()"
   ]
  },
  {
   "cell_type": "code",
   "execution_count": null,
   "metadata": {},
   "outputs": [],
   "source": []
  },
  {
   "cell_type": "code",
   "execution_count": null,
   "metadata": {},
   "outputs": [],
   "source": [
    "# mlp for multi-output regression\n",
    "from numpy import mean\n",
    "from numpy import std\n",
    "from sklearn.datasets import make_regression\n",
    "from sklearn.model_selection import RepeatedKFold\n",
    "from keras.models import Sequential\n",
    "from keras.layers import Dense\n",
    " \n",
    "# get the dataset\n",
    "def get_dataset():\n",
    "\tX, y = make_regression(n_samples=1000, n_features=10, n_informative=5, n_targets=3, random_state=2)\n",
    "\treturn X, y\n",
    " \n",
    "# get the model\n",
    "def get_model(n_inputs, n_outputs):\n",
    "\tmodel = Sequential()\n",
    "\tmodel.add(Dense(20, input_dim=n_inputs, kernel_initializer='he_uniform', activation='relu'))\n",
    "\tmodel.add(Dense(n_outputs))\n",
    "\tmodel.compile(loss='mae', optimizer='adam')\n",
    "\treturn model\n",
    " \n",
    "# evaluate a model using repeated k-fold cross-validation\n",
    "def evaluate_model(X, y):\n",
    "\tresults = list()\n",
    "\tn_inputs, n_outputs = X.shape[1], y.shape[1]\n",
    "\t# define evaluation procedure\n",
    "\tcv = RepeatedKFold(n_splits=10, n_repeats=3, random_state=1)\n",
    "\t# enumerate folds\n",
    "\tfor train_ix, test_ix in cv.split(X):\n",
    "\t\t# prepare data\n",
    "\t\tX_train, X_test = X[train_ix], X[test_ix]\n",
    "\t\ty_train, y_test = y[train_ix], y[test_ix]\n",
    "\t\t# define model\n",
    "\t\tmodel = get_model(n_inputs, n_outputs)\n",
    "\t\t# fit model\n",
    "\t\tmodel.fit(X_train, y_train, verbose=0, epochs=100)\n",
    "\t\t# evaluate model on test set\n",
    "\t\tmae = model.evaluate(X_test, y_test, verbose=0)\n",
    "\t\t# store result\n",
    "\t\tprint('>%.3f' % mae)\n",
    "\t\tresults.append(mae)\n",
    "\treturn results\n",
    " \n",
    "# load dataset\n",
    "X, y = get_dataset()\n",
    "# evaluate model\n",
    "results = evaluate_model(X, y)\n",
    "# summarize performance\n",
    "print('MAE: %.3f (%.3f)' % (mean(results), std(results)))\n"
   ]
  }
 ],
 "metadata": {
  "hide_input": false,
  "kernelspec": {
   "display_name": "Python 3",
   "language": "python",
   "name": "python3"
  },
  "language_info": {
   "codemirror_mode": {
    "name": "ipython",
    "version": 3
   },
   "file_extension": ".py",
   "mimetype": "text/x-python",
   "name": "python",
   "nbconvert_exporter": "python",
   "pygments_lexer": "ipython3",
   "version": "3.7.10"
  },
  "toc": {
   "base_numbering": 1,
   "nav_menu": {},
   "number_sections": true,
   "sideBar": true,
   "skip_h1_title": false,
   "title_cell": "Table of Contents",
   "title_sidebar": "Contents",
   "toc_cell": false,
   "toc_position": {},
   "toc_section_display": true,
   "toc_window_display": false
  },
  "varInspector": {
   "cols": {
    "lenName": 16,
    "lenType": 16,
    "lenVar": 40
   },
   "kernels_config": {
    "python": {
     "delete_cmd_postfix": "",
     "delete_cmd_prefix": "del ",
     "library": "var_list.py",
     "varRefreshCmd": "print(var_dic_list())"
    },
    "r": {
     "delete_cmd_postfix": ") ",
     "delete_cmd_prefix": "rm(",
     "library": "var_list.r",
     "varRefreshCmd": "cat(var_dic_list()) "
    }
   },
   "types_to_exclude": [
    "module",
    "function",
    "builtin_function_or_method",
    "instance",
    "_Feature"
   ],
   "window_display": false
  }
 },
 "nbformat": 4,
 "nbformat_minor": 1
}
