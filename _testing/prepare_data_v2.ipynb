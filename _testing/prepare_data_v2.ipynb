{
 "cells": [
  {
   "cell_type": "code",
   "execution_count": 1,
   "outputs": [],
   "source": [
    "import numpy as np\n",
    "import pandas as pd\n",
    "from datetime import datetime\n",
    "\n",
    "from sklearn.model_selection import train_test_split\n",
    "from sklearn.preprocessing import StandardScaler\n",
    "from catboost import CatBoostRegressor"
   ],
   "metadata": {
    "collapsed": false,
    "pycharm": {
     "name": "#%%\n"
    }
   }
  },
  {
   "cell_type": "code",
   "execution_count": 2,
   "outputs": [],
   "source": [
    "def evraz_metric(y_true: pd.DataFrame, y_pred: np.array):\n",
    "    \"\"\"\n",
    "    Метрика оценки качества модели, предложенная организаторами EVRAZ.\n",
    "    :param answers: pd.DataFrame, датасет с реальными значениями целевых переменных.\n",
    "    :param user_csv: pd.DataFrame, датасет с предсказанными значениями целевых переменных.\n",
    "    :return:\n",
    "    \"\"\"\n",
    "    predictions = pd.DataFrame(data=y_pred, columns=['C', 'TST'])\n",
    "    # Содержание углерода в металле.\n",
    "    delta_c = np.abs(np.array(y_true['C']) - np.array(predictions['C']))\n",
    "    hit_rate_c = np.int64(delta_c < 0.02)\n",
    "    # Температура металла.\n",
    "    delta_t = np.abs(np.array(y_true['TST']) - np.array(predictions['TST']))\n",
    "    hit_rate_t = np.int64(delta_t < 20)\n",
    "    N = np.size(y_true['C'])\n",
    "    return np.sum(hit_rate_c + hit_rate_t) / 2 / N,\\\n",
    "           np.sum(hit_rate_c) / N, np.sum(hit_rate_t) / N"
   ],
   "metadata": {
    "collapsed": false,
    "pycharm": {
     "name": "#%%\n"
    }
   }
  },
  {
   "cell_type": "code",
   "execution_count": 3,
   "outputs": [],
   "source": [
    "def get_seconds(value, format):\n",
    "    time_to_proc = datetime.strptime(value, format)\n",
    "    diff = time_to_proc - datetime(2001, 1, 1)\n",
    "    secs = round(diff.total_seconds(), 1)\n",
    "    return int(secs)"
   ],
   "metadata": {
    "collapsed": false,
    "pycharm": {
     "name": "#%%\n"
    }
   }
  },
  {
   "cell_type": "code",
   "execution_count": 3,
   "outputs": [],
   "source": [],
   "metadata": {
    "collapsed": false,
    "pycharm": {
     "name": "#%%\n"
    }
   }
  },
  {
   "cell_type": "markdown",
   "source": [
    "## making train ds"
   ],
   "metadata": {
    "collapsed": false,
    "pycharm": {
     "name": "#%% md\n"
    }
   }
  },
  {
   "cell_type": "code",
   "execution_count": 4,
   "outputs": [],
   "source": [
    "target_train = pd.read_csv('/home/varsey-fabuza/Downloads/evrazdata/target_train.csv')\n",
    "\n",
    "lom_train = pd.read_csv('/home/varsey-fabuza/Downloads/evrazdata/lom_train.csv')\n",
    "plavki_train = pd.read_csv('/home/varsey-fabuza/Downloads/evrazdata/plavki_train.csv')\n",
    "\n",
    "chugun_train = pd.read_csv('/home/varsey-fabuza/Downloads/evrazdata/chugun_train.csv')\n",
    "sip_train = pd.read_csv('/home/varsey-fabuza/Downloads/evrazdata/sip_train.csv')\n",
    "gas_train = pd.read_csv('/home/varsey-fabuza/Downloads/evrazdata/gas_train.csv')\n",
    "produv_train = pd.read_csv('/home/varsey-fabuza/Downloads/evrazdata/produv_train.csv')\n",
    "chronom_train = pd.read_csv('/home/varsey-fabuza/Downloads/evrazdata/chronom_train.csv')"
   ],
   "metadata": {
    "collapsed": false,
    "pycharm": {
     "name": "#%%\n"
    }
   }
  },
  {
   "cell_type": "code",
   "execution_count": 5,
   "outputs": [
    {
     "name": "stdout",
     "output_type": "stream",
     "text": [
      "CPU times: user 1min 38s, sys: 1.3 s, total: 1min 40s\n",
      "Wall time: 1min 40s\n"
     ]
    }
   ],
   "source": [
    "%%time\n",
    "\n",
    "produv_train['timed'] = produv_train['SEC'].apply(lambda x : get_seconds(x, \"%Y-%m-%d %H:%M:%S\"))\n",
    "gas_train['timed'] = gas_train['Time'].apply(lambda x : get_seconds(x, \"%Y-%m-%d %H:%M:%S.%f\"))"
   ],
   "metadata": {
    "collapsed": false,
    "pycharm": {
     "name": "#%%\n"
    }
   }
  },
  {
   "cell_type": "code",
   "execution_count": 6,
   "outputs": [],
   "source": [
    "chronom_train = pd.read_csv('/home/varsey-fabuza/Downloads/evrazdata/chronom_train.csv')\n",
    "chronom_train['timed'] = chronom_train['VR_NACH'].apply(lambda x : get_seconds(x, \"%Y-%m-%d %H:%M:%S\"))\n",
    "chronom_train['timed'] = chronom_train['timed'].astype('int64')"
   ],
   "metadata": {
    "collapsed": false,
    "pycharm": {
     "name": "#%%\n"
    }
   }
  },
  {
   "cell_type": "code",
   "execution_count": 7,
   "outputs": [],
   "source": [
    "operations = chronom_train[chronom_train.NOP == 'Повалка'].drop_duplicates(\n",
    "    subset=['NPLV', 'VR_NACH']\n",
    ").drop_duplicates(subset=['NPLV'])[['NPLV', 'VR_KON', 'timed']]"
   ],
   "metadata": {
    "collapsed": false,
    "pycharm": {
     "name": "#%%\n"
    }
   }
  },
  {
   "cell_type": "code",
   "execution_count": 8,
   "outputs": [],
   "source": [
    "merged_data = pd.merge_asof(\n",
    "    gas_train.sort_values(by='timed'), produv_train.sort_values(by='timed'),\n",
    "    on='timed', direction='backward'\n",
    ")"
   ],
   "metadata": {
    "collapsed": false,
    "pycharm": {
     "name": "#%%\n"
    }
   }
  },
  {
   "cell_type": "code",
   "execution_count": 9,
   "outputs": [],
   "source": [
    "essenntials = pd.merge(\n",
    "    operations.sort_values(by='timed'), merged_data.sort_values(by='timed'),\n",
    "    left_on='timed', right_on='timed'\n",
    ") #.dropna()"
   ],
   "metadata": {
    "collapsed": false,
    "pycharm": {
     "name": "#%%\n"
    }
   }
  },
  {
   "cell_type": "code",
   "execution_count": 10,
   "outputs": [],
   "source": [
    "tar_nplv = list(target_train.NPLV.unique()); merg_mplv = list(essenntials.NPLV.unique())"
   ],
   "metadata": {
    "collapsed": false,
    "pycharm": {
     "name": "#%%\n"
    }
   }
  },
  {
   "cell_type": "code",
   "execution_count": 11,
   "outputs": [
    {
     "data": {
      "text/plain": "{510157,\n 510177,\n 510414,\n 510695,\n 510829,\n 510948,\n 511031,\n 511119,\n 511173,\n 511571}"
     },
     "execution_count": 11,
     "metadata": {},
     "output_type": "execute_result"
    }
   ],
   "source": [
    "set(tar_nplv) - set(merg_mplv)"
   ],
   "metadata": {
    "collapsed": false,
    "pycharm": {
     "name": "#%%\n"
    }
   }
  },
  {
   "cell_type": "code",
   "execution_count": 12,
   "outputs": [],
   "source": [
    "lst = list(set(tar_nplv) - set(merg_mplv))"
   ],
   "metadata": {
    "collapsed": false,
    "pycharm": {
     "name": "#%%\n"
    }
   }
  },
  {
   "cell_type": "code",
   "execution_count": 13,
   "outputs": [],
   "source": [
    "brak = pd.DataFrame(lst)\n",
    "brak = brak.rename(columns={0: 'NPLV'})"
   ],
   "metadata": {
    "collapsed": false,
    "pycharm": {
     "name": "#%%\n"
    }
   }
  },
  {
   "cell_type": "code",
   "execution_count": 14,
   "outputs": [],
   "source": [
    "for clmn in ['V', 'T', 'O2', 'N2', 'H2', 'CO2', 'CO', 'AR', 'O2_pressure', 'timed', 'RAS', 'POL']:\n",
    "    brak[clmn] = essenntials[clmn].mean()"
   ],
   "metadata": {
    "collapsed": false,
    "pycharm": {
     "name": "#%%\n"
    }
   }
  },
  {
   "cell_type": "code",
   "execution_count": 15,
   "outputs": [],
   "source": [
    "features = pd.concat([essenntials, brak], axis=0).reset_index(drop=True)"
   ],
   "metadata": {
    "collapsed": false,
    "pycharm": {
     "name": "#%%\n"
    }
   }
  },
  {
   "cell_type": "code",
   "execution_count": 16,
   "outputs": [],
   "source": [
    "dataset = features.merge(target_train, how='left', left_on='NPLV', right_on='NPLV')[['V', 'T', 'O2', 'N2', 'H2', 'CO2', 'CO', 'AR', 'O2_pressure', 'timed', 'RAS', 'POL', 'NPLV', 'TST', 'C']]"
   ],
   "metadata": {
    "collapsed": false,
    "pycharm": {
     "name": "#%%\n"
    }
   }
  },
  {
   "cell_type": "code",
   "execution_count": 16,
   "outputs": [],
   "source": [],
   "metadata": {
    "collapsed": false,
    "pycharm": {
     "name": "#%%\n"
    }
   }
  },
  {
   "cell_type": "code",
   "execution_count": 17,
   "outputs": [],
   "source": [
    "dataset = essenntials.merge(target_train, how='left', left_on='NPLV', right_on='NPLV')[['V', 'T', 'O2', 'N2', 'H2', 'CO2', 'CO', 'AR', 'O2_pressure', 'timed', 'RAS', 'POL', 'NPLV', 'TST', 'C']]"
   ],
   "metadata": {
    "collapsed": false,
    "pycharm": {
     "name": "#%%\n"
    }
   }
  },
  {
   "cell_type": "code",
   "execution_count": 18,
   "outputs": [],
   "source": [
    "dataset.to_csv('train_dataset.csv', index=False)"
   ],
   "metadata": {
    "collapsed": false,
    "pycharm": {
     "name": "#%%\n"
    }
   }
  },
  {
   "cell_type": "markdown",
   "source": [
    "## making test ds"
   ],
   "metadata": {
    "collapsed": false,
    "pycharm": {
     "name": "#%% md\n"
    }
   }
  },
  {
   "cell_type": "code",
   "execution_count": 19,
   "outputs": [],
   "source": [
    "sample = pd.read_csv('/home/varsey-fabuza/Downloads/evrazdata/sample_submission.csv')"
   ],
   "metadata": {
    "collapsed": false,
    "pycharm": {
     "name": "#%%\n"
    }
   }
  },
  {
   "cell_type": "code",
   "execution_count": 20,
   "outputs": [],
   "source": [
    "gas_test = pd.read_csv('/home/varsey-fabuza/Downloads/evrazdata/gas_test.csv')\n",
    "produv_test = pd.read_csv('/home/varsey-fabuza/Downloads/evrazdata/produv_test.csv')"
   ],
   "metadata": {
    "collapsed": false,
    "pycharm": {
     "name": "#%%\n"
    }
   }
  },
  {
   "cell_type": "code",
   "execution_count": 21,
   "outputs": [],
   "source": [
    "produv_test['timed'] = produv_test['SEC'].apply(lambda x : get_seconds(x, \"%Y-%m-%d %H:%M:%S\"))\n",
    "gas_test['timed'] = gas_test['Time'].apply(lambda x : get_seconds(x, \"%Y-%m-%d %H:%M:%S.%f\"))"
   ],
   "metadata": {
    "collapsed": false,
    "pycharm": {
     "name": "#%%\n"
    }
   }
  },
  {
   "cell_type": "code",
   "execution_count": 22,
   "outputs": [],
   "source": [
    "merged_data = pd.merge_asof(\n",
    "    gas_test.sort_values(by='timed'), produv_test.sort_values(by='timed'),\n",
    "    on='timed', direction='backward'\n",
    ")"
   ],
   "metadata": {
    "collapsed": false,
    "pycharm": {
     "name": "#%%\n"
    }
   }
  },
  {
   "cell_type": "code",
   "execution_count": 23,
   "outputs": [],
   "source": [
    "chronom_test = pd.read_csv('/home/varsey-fabuza/Downloads/evrazdata/chronom_test.csv')\n",
    "chronom_test['timed'] = chronom_test['VR_KON'].apply(lambda x : get_seconds(x, \"%Y-%m-%d %H:%M:%S\"))\n",
    "chronom_test['timed'] = chronom_test['timed'].astype('int64')"
   ],
   "metadata": {
    "collapsed": false,
    "pycharm": {
     "name": "#%%\n"
    }
   }
  },
  {
   "cell_type": "code",
   "execution_count": 24,
   "outputs": [],
   "source": [
    "operations = chronom_test[chronom_test.NOP == 'Продувка'].drop_duplicates(\n",
    "    subset=['NPLV', 'VR_KON']\n",
    ").drop_duplicates(subset=['NPLV'])[['NPLV', 'VR_KON', 'timed']]"
   ],
   "metadata": {
    "collapsed": false,
    "pycharm": {
     "name": "#%%\n"
    }
   }
  },
  {
   "cell_type": "code",
   "execution_count": 25,
   "outputs": [],
   "source": [
    "essenntials = pd.merge(\n",
    "    operations.sort_values(by='timed'), merged_data.sort_values(by='timed'),\n",
    "    left_on='timed', right_on='timed'\n",
    ") #.dropna()"
   ],
   "metadata": {
    "collapsed": false,
    "pycharm": {
     "name": "#%%\n"
    }
   }
  },
  {
   "cell_type": "code",
   "execution_count": 26,
   "outputs": [
    {
     "data": {
      "text/plain": "(771, 780)"
     },
     "execution_count": 26,
     "metadata": {},
     "output_type": "execute_result"
    }
   ],
   "source": [
    "len(essenntials.NPLV), len(sample.NPLV),"
   ],
   "metadata": {
    "collapsed": false,
    "pycharm": {
     "name": "#%%\n"
    }
   }
  },
  {
   "cell_type": "code",
   "execution_count": 27,
   "outputs": [],
   "source": [
    "tar_nplv = list(sample.NPLV.unique()); merg_mplv = list(essenntials.NPLV.unique())"
   ],
   "metadata": {
    "collapsed": false,
    "pycharm": {
     "name": "#%%\n"
    }
   }
  },
  {
   "cell_type": "code",
   "execution_count": 28,
   "outputs": [
    {
     "data": {
      "text/plain": "{512454, 512882, 512936, 512942, 513029, 513091, 513193, 513244, 513285}"
     },
     "execution_count": 28,
     "metadata": {},
     "output_type": "execute_result"
    }
   ],
   "source": [
    "set(tar_nplv) - set(merg_mplv)"
   ],
   "metadata": {
    "collapsed": false,
    "pycharm": {
     "name": "#%%\n"
    }
   }
  },
  {
   "cell_type": "code",
   "execution_count": 29,
   "outputs": [
    {
     "data": {
      "text/plain": "[513091, 513029, 512454, 513285, 512936, 513193, 512942, 512882, 513244]"
     },
     "execution_count": 29,
     "metadata": {},
     "output_type": "execute_result"
    }
   ],
   "source": [
    "lst = list(set(tar_nplv) - set(merg_mplv))\n",
    "lst"
   ],
   "metadata": {
    "collapsed": false,
    "pycharm": {
     "name": "#%%\n"
    }
   }
  },
  {
   "cell_type": "code",
   "execution_count": 30,
   "outputs": [],
   "source": [
    "brak = pd.DataFrame(lst)\n",
    "brak = brak.rename(columns={0: 'NPLV'})"
   ],
   "metadata": {
    "collapsed": false,
    "pycharm": {
     "name": "#%%\n"
    }
   }
  },
  {
   "cell_type": "code",
   "execution_count": 31,
   "outputs": [],
   "source": [
    "for clmn in ['V', 'T', 'O2', 'N2', 'H2', 'CO2', 'CO', 'AR', 'O2_pressure', 'timed', 'RAS', 'POL']:\n",
    "    brak[clmn] = essenntials[clmn].mean()"
   ],
   "metadata": {
    "collapsed": false,
    "pycharm": {
     "name": "#%%\n"
    }
   }
  },
  {
   "cell_type": "code",
   "execution_count": 32,
   "outputs": [],
   "source": [
    "features = pd.concat([essenntials, brak], axis=0).reset_index(drop=True)"
   ],
   "metadata": {
    "collapsed": false,
    "pycharm": {
     "name": "#%%\n"
    }
   }
  },
  {
   "cell_type": "code",
   "execution_count": 33,
   "outputs": [
    {
     "data": {
      "text/plain": "780"
     },
     "execution_count": 33,
     "metadata": {},
     "output_type": "execute_result"
    }
   ],
   "source": [
    "len(features.NPLV)"
   ],
   "metadata": {
    "collapsed": false,
    "pycharm": {
     "name": "#%%\n"
    }
   }
  },
  {
   "cell_type": "code",
   "execution_count": 34,
   "outputs": [],
   "source": [
    "features = sample[['NPLV']].merge(features, how='left', left_on='NPLV', right_on='NPLV')[['V', 'T', 'O2', 'N2', 'H2', 'CO2', 'CO', 'AR', 'O2_pressure', 'timed', 'RAS', 'POL', 'NPLV']]"
   ],
   "metadata": {
    "collapsed": false,
    "pycharm": {
     "name": "#%%\n"
    }
   }
  },
  {
   "cell_type": "code",
   "execution_count": 35,
   "outputs": [],
   "source": [
    "features.to_csv('test_dataset.csv', index=False)"
   ],
   "metadata": {
    "collapsed": false,
    "pycharm": {
     "name": "#%%\n"
    }
   }
  },
  {
   "cell_type": "code",
   "execution_count": 35,
   "outputs": [],
   "source": [],
   "metadata": {
    "collapsed": false,
    "pycharm": {
     "name": "#%%\n"
    }
   }
  },
  {
   "cell_type": "markdown",
   "source": [
    "## TEST RUN"
   ],
   "metadata": {
    "collapsed": false,
    "pycharm": {
     "name": "#%% md\n"
    }
   }
  },
  {
   "cell_type": "code",
   "execution_count": 36,
   "outputs": [],
   "source": [
    "target_train = pd.read_csv('train_dataset.csv')\n",
    "essenntials = pd.read_csv('test_dataset.csv')"
   ],
   "metadata": {
    "collapsed": false,
    "pycharm": {
     "name": "#%%\n"
    }
   }
  },
  {
   "cell_type": "markdown",
   "source": [
    "# ЗДЕСЬ ПОЛУЧАЕМ ДАТАСЕТЫ ДЛЯ ПРЕДИКТА НА ПРОДЕ:"
   ],
   "metadata": {
    "collapsed": false,
    "pycharm": {
     "name": "#%% md\n"
    }
   }
  },
  {
   "cell_type": "code",
   "execution_count": 37,
   "outputs": [],
   "source": [
    "plavki_test = pd.read_csv('/home/varsey-fabuza/Downloads/evrazdata/plavki_test.csv')\n",
    "lom_test = pd.read_csv('/home/varsey-fabuza/Downloads/evrazdata/lom_test.csv')\n",
    "essenntials = essenntials.merge(plavki_test, left_on='NPLV', right_on='NPLV')\n",
    "essenntials = essenntials.merge(lom_test, left_on='NPLV', right_on='NPLV').drop_duplicates(subset=['NPLV', 'RAS'])\n",
    "essenntials.to_csv('test_ds_cleaned.csv', index=None)"
   ],
   "metadata": {
    "collapsed": false,
    "pycharm": {
     "name": "#%%\n"
    }
   }
  },
  {
   "cell_type": "code",
   "execution_count": 37,
   "outputs": [],
   "source": [],
   "metadata": {
    "collapsed": false,
    "pycharm": {
     "name": "#%%\n"
    }
   }
  },
  {
   "cell_type": "code",
   "execution_count": 38,
   "outputs": [],
   "source": [
    "target_train = target_train.merge(lom_train, left_on='NPLV', right_on='NPLV')\n",
    "target_train = target_train.drop_duplicates(subset=['NPLV', 'RAS'])\n",
    "target_train = target_train.merge(plavki_train, left_on='NPLV', right_on='NPLV')\n",
    "target_train = target_train.drop_duplicates(subset=['NPLV', 'RAS'])\n",
    "target_train.to_csv('train_ds_cleaned.csv', index=None)"
   ],
   "metadata": {
    "collapsed": false,
    "pycharm": {
     "name": "#%%\n"
    }
   }
  },
  {
   "cell_type": "code",
   "execution_count": 273,
   "outputs": [],
   "source": [],
   "metadata": {
    "collapsed": false,
    "pycharm": {
     "name": "#%%\n"
    }
   }
  },
  {
   "cell_type": "code",
   "execution_count": 39,
   "outputs": [],
   "source": [
    "for clm in ['V', 'T', 'O2', 'N2', 'H2', 'CO2', 'CO', 'AR', 'POL', 'O2_pressure', 'RAS',]:\n",
    "    target_train[clm] = target_train[clm].replace(0, target_train[clm].mean())#.mask(target_train[clm]==0).fillna(target_train[clm].mean())"
   ],
   "metadata": {
    "collapsed": false,
    "pycharm": {
     "name": "#%%\n"
    }
   }
  },
  {
   "cell_type": "code",
   "execution_count": 40,
   "outputs": [],
   "source": [
    "for clm in ['V', 'T', 'O2', 'N2', 'H2', 'CO2', 'CO', 'AR', 'POL', 'O2_pressure', 'RAS',]:\n",
    "    essenntials[clm] = essenntials[clm].replace(0, essenntials[clm].mean())"
   ],
   "metadata": {
    "collapsed": false,
    "pycharm": {
     "name": "#%%\n"
    }
   }
  },
  {
   "cell_type": "code",
   "execution_count": 41,
   "outputs": [
    {
     "data": {
      "text/plain": "False"
     },
     "execution_count": 41,
     "metadata": {},
     "output_type": "execute_result"
    }
   ],
   "source": [
    "target_train['TST'] = target_train['TST'].fillna(target_train['TST'].mean())\n",
    "target_train['TST'].isnull().values.any()"
   ],
   "metadata": {
    "collapsed": false,
    "pycharm": {
     "name": "#%%\n"
    }
   }
  },
  {
   "cell_type": "code",
   "execution_count": 42,
   "outputs": [
    {
     "data": {
      "text/plain": "False"
     },
     "execution_count": 42,
     "metadata": {},
     "output_type": "execute_result"
    }
   ],
   "source": [
    "target_train['C'] = target_train['C'].fillna(target_train['C'].mean())\n",
    "target_train['C'].isnull().values.any()"
   ],
   "metadata": {
    "collapsed": false,
    "pycharm": {
     "name": "#%%\n"
    }
   }
  },
  {
   "cell_type": "code",
   "execution_count": 43,
   "outputs": [
    {
     "data": {
      "text/plain": "(27,\n Index(['V', 'T', 'O2', 'N2', 'H2', 'CO2', 'CO', 'AR', 'O2_pressure', 'timed',\n        'RAS', 'POL', 'NPLV', 'TST', 'C', 'VDL', 'NML', 'VES', 'plavka_VR_NACH',\n        'plavka_VR_KON', 'plavka_NMZ', 'plavka_NAPR_ZAD', 'plavka_STFUT',\n        'plavka_TIPE_FUR', 'plavka_ST_FURM', 'plavka_TIPE_GOL',\n        'plavka_ST_GOL'],\n       dtype='object'))"
     },
     "execution_count": 43,
     "metadata": {},
     "output_type": "execute_result"
    }
   ],
   "source": [
    "target_train.shape[1], target_train.columns"
   ],
   "metadata": {
    "collapsed": false,
    "pycharm": {
     "name": "#%%\n"
    }
   }
  },
  {
   "cell_type": "code",
   "execution_count": 45,
   "outputs": [],
   "source": [
    "target_train.to_csv('train_ds_cleaned_limited.csv', index=False)\n",
    "essenntials.to_csv('test_ds_cleaned_limited.csv', index=False)"
   ],
   "metadata": {
    "collapsed": false,
    "pycharm": {
     "name": "#%%\n"
    }
   }
  },
  {
   "cell_type": "code",
   "execution_count": 41,
   "outputs": [],
   "source": [],
   "metadata": {
    "collapsed": false,
    "pycharm": {
     "name": "#%%\n"
    }
   }
  },
  {
   "cell_type": "code",
   "execution_count": null,
   "outputs": [],
   "source": [],
   "metadata": {
    "collapsed": false,
    "pycharm": {
     "name": "#%%\n"
    }
   }
  }
 ],
 "metadata": {
  "kernelspec": {
   "display_name": "Python 3 (ipykernel)",
   "language": "python",
   "name": "python3"
  },
  "language_info": {
   "codemirror_mode": {
    "name": "ipython",
    "version": 3
   },
   "file_extension": ".py",
   "mimetype": "text/x-python",
   "name": "python",
   "nbconvert_exporter": "python",
   "pygments_lexer": "ipython3",
   "version": "3.7.10"
  }
 },
 "nbformat": 4,
 "nbformat_minor": 5
}