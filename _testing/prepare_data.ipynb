{
 "cells": [
  {
   "cell_type": "code",
   "execution_count": null,
   "outputs": [],
   "source": [
    "import numpy as np\n",
    "import pandas as pd\n",
    "from datetime import datetime\n",
    "\n",
    "from sklearn.model_selection import train_test_split\n",
    "from sklearn.preprocessing import StandardScaler\n",
    "from catboost import CatBoostRegressor"
   ],
   "metadata": {
    "collapsed": false,
    "pycharm": {
     "name": "#%%\n"
    }
   }
  },
  {
   "cell_type": "code",
   "execution_count": null,
   "outputs": [],
   "source": [
    "def evraz_metric(y_true: pd.DataFrame, y_pred: np.array):\n",
    "    \"\"\"\n",
    "    Метрика оценки качества модели, предложенная организаторами EVRAZ.\n",
    "    :param answers: pd.DataFrame, датасет с реальными значениями целевых переменных.\n",
    "    :param user_csv: pd.DataFrame, датасет с предсказанными значениями целевых переменных.\n",
    "    :return:\n",
    "    \"\"\"\n",
    "    predictions = pd.DataFrame(data=y_pred, columns=['C', 'TST'])\n",
    "    # Содержание углерода в металле.\n",
    "    delta_c = np.abs(np.array(y_true['C']) - np.array(predictions['C']))\n",
    "    hit_rate_c = np.int64(delta_c < 0.02)\n",
    "    # Температура металла.\n",
    "    delta_t = np.abs(np.array(y_true['TST']) - np.array(predictions['TST']))\n",
    "    hit_rate_t = np.int64(delta_t < 20)\n",
    "    N = np.size(y_true['C'])\n",
    "    return np.sum(hit_rate_c + hit_rate_t) / 2 / N,\\\n",
    "           np.sum(hit_rate_c) / N, np.sum(hit_rate_t) / N"
   ],
   "metadata": {
    "collapsed": false,
    "pycharm": {
     "name": "#%%\n"
    }
   }
  },
  {
   "cell_type": "code",
   "execution_count": null,
   "outputs": [],
   "source": [
    "def get_seconds(value, format):\n",
    "    time_to_proc = datetime.strptime(value, format)\n",
    "    diff = time_to_proc - datetime(2001, 1, 1)\n",
    "    secs = round(diff.total_seconds(), 1)\n",
    "    return int(secs)"
   ],
   "metadata": {
    "collapsed": false,
    "pycharm": {
     "name": "#%%\n"
    }
   }
  },
  {
   "cell_type": "code",
   "execution_count": null,
   "outputs": [],
   "source": [],
   "metadata": {
    "collapsed": false,
    "pycharm": {
     "name": "#%%\n"
    }
   }
  },
  {
   "cell_type": "markdown",
   "source": [
    "## making train ds"
   ],
   "metadata": {
    "collapsed": false,
    "pycharm": {
     "name": "#%% md\n"
    }
   }
  },
  {
   "cell_type": "code",
   "execution_count": null,
   "outputs": [],
   "source": [
    "target_train = pd.read_csv('Downloads/evrazdata/target_train.csv')\n",
    "\n",
    "lom_train = pd.read_csv('Downloads/evrazdata/lom_train.csv')\n",
    "plavki_train = pd.read_csv('/evrazdata/plavki_train.csv')\n",
    "\n",
    "chugun_train = pd.read_csv('Downloads/evrazdata/chugun_train.csv')\n",
    "sip_train = pd.read_csv('Downloads/evrazdata/sip_train.csv')\n",
    "gas_train = pd.read_csv('Downloads/evrazdata/gas_train.csv')\n",
    "produv_train = pd.read_csv('Downloads/evrazdata/produv_train.csv')\n",
    "chronom_train = pd.read_csv('Downloads/evrazdata/chronom_train.csv')"
   ],
   "metadata": {
    "collapsed": false,
    "pycharm": {
     "name": "#%%\n"
    }
   }
  },
  {
   "cell_type": "code",
   "execution_count": null,
   "outputs": [],
   "source": [
    "%%time\n",
    "\n",
    "produv_train['timed'] = produv_train['SEC'].apply(lambda x : get_seconds(x, \"%Y-%m-%d %H:%M:%S\"))\n",
    "gas_train['timed'] = gas_train['Time'].apply(lambda x : get_seconds(x, \"%Y-%m-%d %H:%M:%S.%f\"))"
   ],
   "metadata": {
    "collapsed": false,
    "pycharm": {
     "name": "#%%\n"
    }
   }
  },
  {
   "cell_type": "code",
   "execution_count": null,
   "outputs": [],
   "source": [
    "chronom_train = pd.read_csv('Downloads/evrazdata/chronom_train.csv')\n",
    "chronom_train['timed'] = chronom_train['VR_NACH'].apply(lambda x : get_seconds(x, \"%Y-%m-%d %H:%M:%S\"))\n",
    "chronom_train['timed'] = chronom_train['timed'].astype('int64')"
   ],
   "metadata": {
    "collapsed": false,
    "pycharm": {
     "name": "#%%\n"
    }
   }
  },
  {
   "cell_type": "code",
   "execution_count": null,
   "outputs": [],
   "source": [
    "operations = chronom_train[chronom_train.NOP == 'Повалка'].drop_duplicates(\n",
    "    subset=['NPLV', 'VR_NACH']\n",
    ").drop_duplicates(subset=['NPLV'])[['NPLV', 'VR_KON', 'timed']]"
   ],
   "metadata": {
    "collapsed": false,
    "pycharm": {
     "name": "#%%\n"
    }
   }
  },
  {
   "cell_type": "code",
   "execution_count": null,
   "outputs": [],
   "source": [
    "merged_data = pd.merge_asof(\n",
    "    gas_train.sort_values(by='timed'), produv_train.sort_values(by='timed'),\n",
    "    on='timed', direction='backward'\n",
    ")"
   ],
   "metadata": {
    "collapsed": false,
    "pycharm": {
     "name": "#%%\n"
    }
   }
  },
  {
   "cell_type": "code",
   "execution_count": null,
   "outputs": [],
   "source": [
    "essenntials = pd.merge(\n",
    "    operations.sort_values(by='timed'), merged_data.sort_values(by='timed'),\n",
    "    left_on='timed', right_on='timed'\n",
    ")"
   ],
   "metadata": {
    "collapsed": false,
    "pycharm": {
     "name": "#%%\n"
    }
   }
  },
  {
   "cell_type": "code",
   "execution_count": null,
   "outputs": [],
   "source": [
    "dataset = essenntials.merge(target_train, how='left', left_on='NPLV', right_on='NPLV')[['V', 'T', 'O2', 'N2', 'H2', 'CO2', 'CO', 'AR', 'O2_pressure', 'timed', 'RAS', 'POL', 'NPLV', 'TST', 'C']]"
   ],
   "metadata": {
    "collapsed": false,
    "pycharm": {
     "name": "#%%\n"
    }
   }
  },
  {
   "cell_type": "code",
   "execution_count": null,
   "outputs": [],
   "source": [
    "dataset.to_csv('dataset.csv', index=False)"
   ],
   "metadata": {
    "collapsed": false,
    "pycharm": {
     "name": "#%%\n"
    }
   }
  },
  {
   "cell_type": "markdown",
   "source": [
    "## making test ds"
   ],
   "metadata": {
    "collapsed": false,
    "pycharm": {
     "name": "#%% md\n"
    }
   }
  },
  {
   "cell_type": "code",
   "execution_count": null,
   "outputs": [],
   "source": [
    "sample = pd.read_csv('evrazdata/sample_submission.csv')"
   ],
   "metadata": {
    "collapsed": false,
    "pycharm": {
     "name": "#%%\n"
    }
   }
  },
  {
   "cell_type": "code",
   "execution_count": null,
   "outputs": [],
   "source": [
    "gas_test = pd.read_csv('Downloads/evrazdata/gas_test.csv')\n",
    "produv_test = pd.read_csv('Downloads/evrazdata/produv_test.csv')"
   ],
   "metadata": {
    "collapsed": false,
    "pycharm": {
     "name": "#%%\n"
    }
   }
  },
  {
   "cell_type": "code",
   "execution_count": null,
   "outputs": [],
   "source": [
    "produv_test['timed'] = produv_test['SEC'].apply(lambda x : get_seconds(x, \"%Y-%m-%d %H:%M:%S\"))\n",
    "gas_test['timed'] = gas_test['Time'].apply(lambda x : get_seconds(x, \"%Y-%m-%d %H:%M:%S.%f\"))"
   ],
   "metadata": {
    "collapsed": false,
    "pycharm": {
     "name": "#%%\n"
    }
   }
  },
  {
   "cell_type": "code",
   "execution_count": null,
   "outputs": [],
   "source": [
    "merged_data = pd.merge_asof(\n",
    "    gas_test.sort_values(by='timed'), produv_test.sort_values(by='timed'),\n",
    "    on='timed', direction='backward'\n",
    ")"
   ],
   "metadata": {
    "collapsed": false,
    "pycharm": {
     "name": "#%%\n"
    }
   }
  },
  {
   "cell_type": "code",
   "execution_count": null,
   "outputs": [],
   "source": [
    "chronom_test = pd.read_csv('Downloads/evrazdata/chronom_test.csv')\n",
    "chronom_test['timed'] = chronom_test['VR_KON'].apply(lambda x : get_seconds(x, \"%Y-%m-%d %H:%M:%S\"))\n",
    "chronom_test['timed'] = chronom_test['timed'].astype('int64')"
   ],
   "metadata": {
    "collapsed": false,
    "pycharm": {
     "name": "#%%\n"
    }
   }
  },
  {
   "cell_type": "code",
   "execution_count": null,
   "outputs": [],
   "source": [
    "operations = chronom_test[chronom_test.NOP == 'Продувка'].drop_duplicates(\n",
    "    subset=['NPLV', 'VR_KON']\n",
    ").drop_duplicates(subset=['NPLV'])[['NPLV', 'VR_KON', 'timed']]"
   ],
   "metadata": {
    "collapsed": false,
    "pycharm": {
     "name": "#%%\n"
    }
   }
  },
  {
   "cell_type": "code",
   "execution_count": null,
   "outputs": [],
   "source": [
    "essenntials = pd.merge(\n",
    "    operations.sort_values(by='timed'), merged_data.sort_values(by='timed'),\n",
    "    left_on='timed', right_on='timed'\n",
    ") #.dropna()"
   ],
   "metadata": {
    "collapsed": false,
    "pycharm": {
     "name": "#%%\n"
    }
   }
  },
  {
   "cell_type": "code",
   "execution_count": null,
   "outputs": [],
   "source": [
    "len(essenntials.NPLV), len(sample.NPLV),"
   ],
   "metadata": {
    "collapsed": false,
    "pycharm": {
     "name": "#%%\n"
    }
   }
  },
  {
   "cell_type": "code",
   "execution_count": null,
   "outputs": [],
   "source": [
    "tar_nplv = list(sample.NPLV.unique()); merg_mplv = list(essenntials.NPLV.unique())"
   ],
   "metadata": {
    "collapsed": false,
    "pycharm": {
     "name": "#%%\n"
    }
   }
  },
  {
   "cell_type": "code",
   "execution_count": null,
   "outputs": [],
   "source": [
    "set(tar_nplv) - set(merg_mplv)"
   ],
   "metadata": {
    "collapsed": false,
    "pycharm": {
     "name": "#%%\n"
    }
   }
  },
  {
   "cell_type": "code",
   "execution_count": null,
   "outputs": [],
   "source": [
    "lst = list(set(tar_nplv) - set(merg_mplv))\n",
    "lst"
   ],
   "metadata": {
    "collapsed": false,
    "pycharm": {
     "name": "#%%\n"
    }
   }
  },
  {
   "cell_type": "code",
   "execution_count": null,
   "outputs": [],
   "source": [
    "brak = pd.DataFrame(lst)\n",
    "brak = brak.rename(columns={0: 'NPLV'})"
   ],
   "metadata": {
    "collapsed": false,
    "pycharm": {
     "name": "#%%\n"
    }
   }
  },
  {
   "cell_type": "code",
   "execution_count": null,
   "outputs": [],
   "source": [
    "for clmn in ['V', 'T', 'O2', 'N2', 'H2', 'CO2', 'CO', 'AR', 'O2_pressure', 'timed', 'RAS', 'POL']:\n",
    "    brak[clmn] = essenntials[clmn].mean()"
   ],
   "metadata": {
    "collapsed": false,
    "pycharm": {
     "name": "#%%\n"
    }
   }
  },
  {
   "cell_type": "code",
   "execution_count": null,
   "outputs": [],
   "source": [
    "features = pd.concat([essenntials, brak], axis=0).reset_index(drop=True)"
   ],
   "metadata": {
    "collapsed": false,
    "pycharm": {
     "name": "#%%\n"
    }
   }
  },
  {
   "cell_type": "code",
   "execution_count": null,
   "outputs": [],
   "source": [
    "len(features.NPLV)"
   ],
   "metadata": {
    "collapsed": false,
    "pycharm": {
     "name": "#%%\n"
    }
   }
  },
  {
   "cell_type": "code",
   "execution_count": null,
   "outputs": [],
   "source": [
    "features = sample[['NPLV']].merge(features, how='left', left_on='NPLV', right_on='NPLV')[['V', 'T', 'O2', 'N2', 'H2', 'CO2', 'CO', 'AR', 'O2_pressure', 'timed', 'RAS', 'POL', 'NPLV']]"
   ],
   "metadata": {
    "collapsed": false,
    "pycharm": {
     "name": "#%%\n"
    }
   }
  },
  {
   "cell_type": "code",
   "execution_count": null,
   "outputs": [],
   "source": [
    "features.to_csv('test_dataset.csv', index=False)"
   ],
   "metadata": {
    "collapsed": false,
    "pycharm": {
     "name": "#%%\n"
    }
   }
  },
  {
   "cell_type": "code",
   "execution_count": null,
   "outputs": [],
   "source": [],
   "metadata": {
    "collapsed": false,
    "pycharm": {
     "name": "#%%\n"
    }
   }
  },
  {
   "cell_type": "markdown",
   "source": [
    "## TEST RUN"
   ],
   "metadata": {
    "collapsed": false,
    "pycharm": {
     "name": "#%% md\n"
    }
   }
  },
  {
   "cell_type": "code",
   "execution_count": null,
   "outputs": [],
   "source": [
    "target_train = pd.read_csv('/home/varsey-fabuza/PycharmProjects/evraz/_testing/dataset.csv')\n",
    "essenntials = pd.read_csv('test_dataset.csv')"
   ],
   "metadata": {
    "collapsed": false,
    "pycharm": {
     "name": "#%%\n"
    }
   }
  },
  {
   "cell_type": "markdown",
   "source": [
    "# ЗДЕСЬ ПОЛУЧАЕМ ДАТАСЕТЫ ДЛЯ ПРЕДИКТА НА ПРОДЕ:"
   ],
   "metadata": {
    "collapsed": false,
    "pycharm": {
     "name": "#%% md\n"
    }
   }
  },
  {
   "cell_type": "code",
   "execution_count": null,
   "outputs": [],
   "source": [
    "plavki_test = pd.read_csv('data/plavki_test.csv')\n",
    "essenntials = essenntials.merge(plavki_test, left_on='NPLV', right_on='NPLV')\n",
    "essenntials.to_csv('test_ds_cleaned.csv', index=None)"
   ],
   "metadata": {
    "collapsed": false,
    "pycharm": {
     "name": "#%%\n"
    }
   }
  },
  {
   "cell_type": "code",
   "execution_count": null,
   "outputs": [],
   "source": [
    "target_train = target_train.merge(lom_train, left_on='NPLV', right_on='NPLV')\n",
    "target_train = target_train.drop_duplicates(subset=['NPLV', 'RAS'])\n",
    "target_train = target_train.merge(plavki_train, left_on='NPLV', right_on='NPLV')\n",
    "target_train = target_train.drop_duplicates(subset=['NPLV', 'RAS'])\n",
    "target_train.to_csv('train_ds_cleaned.csv', index=None)"
   ],
   "metadata": {
    "collapsed": false,
    "pycharm": {
     "name": "#%%\n"
    }
   }
  },
  {
   "cell_type": "code",
   "execution_count": null,
   "outputs": [],
   "source": [],
   "metadata": {
    "collapsed": false,
    "pycharm": {
     "name": "#%%\n"
    }
   }
  },
  {
   "cell_type": "code",
   "execution_count": null,
   "outputs": [],
   "source": [],
   "metadata": {
    "collapsed": false,
    "pycharm": {
     "name": "#%%\n"
    }
   }
  },
  {
   "cell_type": "code",
   "execution_count": null,
   "outputs": [],
   "source": [],
   "metadata": {
    "collapsed": false,
    "pycharm": {
     "name": "#%%\n"
    }
   }
  },
  {
   "cell_type": "code",
   "execution_count": null,
   "outputs": [],
   "source": [
    "target_train = target_train[['V', 'T', 'O2', 'N2', 'H2', 'CO2', 'CO', 'AR', 'POL',\n",
    "                             'O2_pressure', 'RAS', 'TST', 'C', 'NPLV']]"
   ],
   "metadata": {
    "collapsed": false,
    "pycharm": {
     "name": "#%%\n"
    }
   }
  },
  {
   "cell_type": "code",
   "execution_count": null,
   "outputs": [],
   "source": [
    "essenntials = essenntials[['V', 'T', 'O2', 'N2', 'H2', 'CO2', 'CO', 'AR', 'POL',\n",
    "                           'O2_pressure', 'RAS', 'NPLV']]"
   ],
   "metadata": {
    "collapsed": false,
    "pycharm": {
     "name": "#%%\n"
    }
   }
  },
  {
   "cell_type": "code",
   "execution_count": null,
   "outputs": [],
   "source": [
    "target_train.head()"
   ],
   "metadata": {
    "collapsed": false,
    "pycharm": {
     "name": "#%%\n"
    }
   }
  },
  {
   "cell_type": "code",
   "execution_count": null,
   "outputs": [],
   "source": [
    "for clm in ['V', 'T', 'O2', 'N2', 'H2', 'CO2', 'CO', 'AR', 'POL', 'O2_pressure', 'RAS',]:\n",
    "    target_train[clm].mask(target_train[clm]==0).fillna(target_train[clm].mean())"
   ],
   "metadata": {
    "collapsed": false,
    "pycharm": {
     "name": "#%%\n"
    }
   }
  },
  {
   "cell_type": "code",
   "execution_count": null,
   "outputs": [],
   "source": [
    "for clm in ['V', 'T', 'O2', 'N2', 'H2', 'CO2', 'CO', 'AR', 'POL', 'O2_pressure', 'RAS',]:\n",
    "    essenntials[clm].mask(essenntials[clm]==0).fillna(essenntials[clm].mean())"
   ],
   "metadata": {
    "collapsed": false,
    "pycharm": {
     "name": "#%%\n"
    }
   }
  },
  {
   "cell_type": "code",
   "execution_count": null,
   "outputs": [],
   "source": [
    "target_train['TST'] = target_train['TST'].fillna(target_train['TST'].mean())\n",
    "target_train['TST'].isnull().values.any()"
   ],
   "metadata": {
    "collapsed": false,
    "pycharm": {
     "name": "#%%\n"
    }
   }
  },
  {
   "cell_type": "code",
   "execution_count": null,
   "outputs": [],
   "source": [
    "target_train['C'] = target_train['C'].fillna(target_train['C'].mean())\n",
    "target_train['C'].isnull().values.any()"
   ],
   "metadata": {
    "collapsed": false,
    "pycharm": {
     "name": "#%%\n"
    }
   }
  },
  {
   "cell_type": "code",
   "execution_count": null,
   "outputs": [],
   "source": [
    "target_train.shape[1], target_train.columns"
   ],
   "metadata": {
    "collapsed": false,
    "pycharm": {
     "name": "#%%\n"
    }
   }
  },
  {
   "cell_type": "code",
   "execution_count": null,
   "outputs": [],
   "source": [],
   "metadata": {
    "collapsed": false,
    "pycharm": {
     "name": "#%%\n"
    }
   }
  },
  {
   "cell_type": "code",
   "execution_count": null,
   "outputs": [],
   "source": [
    "last_col = target_train.shape[1] - 3\n",
    "dummy_df = target_train\n",
    "sc = StandardScaler()"
   ],
   "metadata": {
    "collapsed": false,
    "pycharm": {
     "name": "#%%\n"
    }
   }
  },
  {
   "cell_type": "code",
   "execution_count": null,
   "outputs": [],
   "source": [],
   "metadata": {
    "collapsed": false,
    "pycharm": {
     "name": "#%%\n"
    }
   }
  },
  {
   "cell_type": "code",
   "execution_count": null,
   "outputs": [],
   "source": [
    "features_c = np.array(pd.concat([dummy_df[['O2', 'N2']],\n",
    "                                 np.log(dummy_df[['AR']])], axis=1))\n",
    "target_c = np.log( np.array(dummy_df[['C']])) #TST\n",
    "#target_c = np.array(dummy_df[['C']]) #TST\n",
    "\n",
    "features_train_c, features_test_c, target_train_c, target_test_c = train_test_split(features_c,\n",
    "                                                                                    target_c,\n",
    "                                                                                    random_state=0)\n",
    "\n",
    "features_train_c = sc.fit_transform(features_train_c)\n",
    "features_test_c = sc.fit_transform(features_test_c)\n",
    "\n",
    "baseline_c = CatBoostRegressor(verbose=0, eval_metric='RMSE', random_seed = 1, n_estimators = 110, subsample = 1, max_depth = 1)\n",
    "baseline_c.fit(features_train_c, target_train_c)"
   ],
   "metadata": {
    "collapsed": false,
    "pycharm": {
     "name": "#%%\n"
    }
   }
  },
  {
   "cell_type": "code",
   "execution_count": null,
   "outputs": [],
   "source": [
    "features_tst = np.array(dummy_df[['T', 'H2', 'CO2', 'CO',]])\n",
    "target_tst = np.array(dummy_df[['TST']]) #TС\n",
    "\n",
    "features_train_tst, features_test_tst, target_train_tst, target_test_tst = train_test_split(features_tst,\n",
    "                                                                                            target_tst,\n",
    "                                                                                            random_state=0)\n",
    "features_train_tst = sc.fit_transform(features_train_tst)\n",
    "features_test_tst = sc.fit_transform(features_test_tst)\n",
    "\n",
    "baseline_tst = CatBoostRegressor(verbose=0, eval_metric='RMSE', random_seed = 1, n_estimators = 75)\n",
    "baseline_tst.fit(features_train_tst, target_train_tst)"
   ],
   "metadata": {
    "collapsed": false,
    "pycharm": {
     "name": "#%%\n"
    }
   }
  },
  {
   "cell_type": "code",
   "execution_count": null,
   "outputs": [],
   "source": [
    "model_tst = baseline_tst.fit(features_train_tst, target_train_tst)\n",
    "model_c = baseline_c.fit(features_train_c, target_train_c)"
   ],
   "metadata": {
    "collapsed": false,
    "pycharm": {
     "name": "#%%\n"
    }
   }
  },
  {
   "cell_type": "code",
   "execution_count": null,
   "outputs": [],
   "source": [
    "res = (\n",
    "    pd.concat([\n",
    "        pd.DataFrame(np.exp(model_c.predict(features_test_c)*1.00)).rename(columns={0: 'C'}),\n",
    "        pd.DataFrame(model_tst.predict(features_test_tst)*1.00).rename(columns={0: 'TST'})],\n",
    "        axis=1),\n",
    "    pd.concat([\n",
    "        pd.DataFrame(np.exp(target_test_c)).rename(columns={0: 'C'}),\n",
    "        pd.DataFrame(target_test_tst).rename(columns={0: 'TST'})],\n",
    "        axis=1),\n",
    ")"
   ],
   "metadata": {
    "collapsed": false,
    "pycharm": {
     "name": "#%%\n"
    }
   }
  },
  {
   "cell_type": "code",
   "execution_count": null,
   "outputs": [],
   "source": [
    "res[0].head()"
   ],
   "metadata": {
    "collapsed": false,
    "pycharm": {
     "name": "#%%\n"
    }
   }
  },
  {
   "cell_type": "code",
   "execution_count": null,
   "outputs": [],
   "source": [
    "evraz_metric(res[0], res[1])"
   ],
   "metadata": {
    "collapsed": false,
    "pycharm": {
     "name": "#%%\n"
    }
   }
  },
  {
   "cell_type": "code",
   "execution_count": null,
   "outputs": [],
   "source": [
    "#(0.626937984496124, 0.6996124031007752, 0.5542635658914729)"
   ],
   "metadata": {
    "collapsed": false,
    "pycharm": {
     "name": "#%%\n"
    }
   }
  },
  {
   "cell_type": "code",
   "execution_count": null,
   "outputs": [],
   "source": [],
   "metadata": {
    "collapsed": false,
    "pycharm": {
     "name": "#%%\n"
    }
   }
  },
  {
   "cell_type": "code",
   "execution_count": null,
   "outputs": [],
   "source": [
    "pd.concat([\n",
    "    pd.DataFrame(np.exp(target_test_c)).rename(columns={0: 'C'}),\n",
    "    pd.DataFrame(target_test_tst).rename(columns={0: 'TST'})],\n",
    "    axis=1).hist()"
   ],
   "metadata": {
    "collapsed": false,
    "pycharm": {
     "name": "#%%\n"
    }
   }
  },
  {
   "cell_type": "code",
   "execution_count": null,
   "outputs": [],
   "source": [
    "pd.concat([\n",
    "    pd.DataFrame(np.exp(baseline_c.predict(features_test_c)*1.0)).rename(columns={0: 'C'}),\n",
    "    pd.DataFrame(baseline_tst.predict(features_test_tst)*1.0).rename(columns={0: 'TST'})],\n",
    "    axis=1).hist()"
   ],
   "metadata": {
    "collapsed": false,
    "pycharm": {
     "name": "#%%\n"
    }
   }
  },
  {
   "cell_type": "code",
   "execution_count": null,
   "outputs": [],
   "source": [],
   "metadata": {
    "collapsed": false,
    "pycharm": {
     "name": "#%%\n"
    }
   }
  },
  {
   "cell_type": "markdown",
   "source": [
    "## battle run"
   ],
   "metadata": {
    "collapsed": false,
    "pycharm": {
     "name": "#%% md\n"
    }
   }
  },
  {
   "cell_type": "code",
   "execution_count": null,
   "outputs": [],
   "source": [
    "features_c = np.array(pd.concat([dummy_df[['O2', 'N2']],\n",
    "                                 np.log(dummy_df[['AR']])], axis=1))\n",
    "target_c = np.log( np.array(dummy_df[['C']])) #TST\n",
    "\n",
    "features_train_c = sc.fit_transform(features_c)\n",
    "\n",
    "battle_c = CatBoostRegressor(verbose=0, eval_metric='RMSE', random_seed = 1, n_estimators = 110, subsample = 1, max_depth = 1)"
   ],
   "metadata": {
    "collapsed": false,
    "pycharm": {
     "name": "#%%\n"
    }
   }
  },
  {
   "cell_type": "code",
   "execution_count": null,
   "outputs": [],
   "source": [
    "features_tst = np.array(dummy_df[['T', 'H2', 'CO2', 'CO',]])\n",
    "target_tst = np.array(dummy_df[['TST']]) #TС\n",
    "\n",
    "features_train_tst = sc.fit_transform(features_tst)\n",
    "\n",
    "battle_tst = CatBoostRegressor(verbose=0, eval_metric='RMSE', random_seed = 1, n_estimators = 75)"
   ],
   "metadata": {
    "collapsed": false,
    "pycharm": {
     "name": "#%%\n"
    }
   }
  },
  {
   "cell_type": "code",
   "execution_count": null,
   "outputs": [],
   "source": [
    "battle_model_c = battle_c.fit(features_c, target_c)\n",
    "battle_model_tst = battle_tst.fit(features_tst, target_tst)"
   ],
   "metadata": {
    "collapsed": false,
    "pycharm": {
     "name": "#%%\n"
    }
   }
  },
  {
   "cell_type": "code",
   "execution_count": null,
   "outputs": [],
   "source": [],
   "metadata": {
    "collapsed": false,
    "pycharm": {
     "name": "#%%\n"
    }
   }
  },
  {
   "cell_type": "code",
   "execution_count": null,
   "outputs": [],
   "source": [
    "features_c_test = np.array(pd.concat([essenntials[['O2', 'N2']],\n",
    "                                      np.log(essenntials[['AR']])], axis=1))\n",
    "\n",
    "features_tst_test = np.array(essenntials[['T', 'H2', 'CO2', 'CO']])"
   ],
   "metadata": {
    "collapsed": false,
    "pycharm": {
     "name": "#%%\n"
    }
   }
  },
  {
   "cell_type": "code",
   "execution_count": null,
   "outputs": [],
   "source": [
    "pd.concat([essenntials[['NPLV']],\n",
    "           pd.DataFrame(np.exp(battle_model_c.predict(features_c_test)*1.00)).rename(columns={0: 'C'}),\n",
    "           pd.DataFrame(battle_model_tst.predict(features_tst_test)*1.00).rename(columns={0: 'TST'})], axis= 1)"
   ],
   "metadata": {
    "collapsed": false,
    "pycharm": {
     "name": "#%%\n"
    }
   }
  },
  {
   "cell_type": "code",
   "execution_count": null,
   "outputs": [],
   "source": [
    "res = pd.concat([essenntials[['NPLV']],\n",
    "                 pd.DataFrame(battle_model_tst.predict(features_tst_test)*1.00).rename(columns={0: 'TST'}),\n",
    "                 pd.DataFrame(np.exp(battle_model_c.predict(features_c_test)*1.00)).rename(columns={0: 'C'}),], axis= 1)"
   ],
   "metadata": {
    "collapsed": false,
    "pycharm": {
     "name": "#%%\n"
    }
   }
  },
  {
   "cell_type": "code",
   "execution_count": null,
   "outputs": [],
   "source": [
    "res[res.NPLV == 513374]"
   ],
   "metadata": {
    "collapsed": false,
    "pycharm": {
     "name": "#%%\n"
    }
   }
  },
  {
   "cell_type": "code",
   "execution_count": null,
   "outputs": [],
   "source": [
    "res"
   ],
   "metadata": {
    "collapsed": false,
    "pycharm": {
     "name": "#%%\n"
    }
   }
  },
  {
   "cell_type": "code",
   "execution_count": null,
   "outputs": [],
   "source": [
    "res.to_csv('subm2.csv', index=False)"
   ],
   "metadata": {
    "collapsed": false,
    "pycharm": {
     "name": "#%%\n"
    }
   }
  },
  {
   "cell_type": "code",
   "execution_count": null,
   "outputs": [],
   "source": [],
   "metadata": {
    "collapsed": false,
    "pycharm": {
     "name": "#%%\n"
    }
   }
  }
 ],
 "metadata": {
  "kernelspec": {
   "display_name": "Python 3 (ipykernel)",
   "language": "python",
   "name": "python3"
  },
  "language_info": {
   "codemirror_mode": {
    "name": "ipython",
    "version": 3
   },
   "file_extension": ".py",
   "mimetype": "text/x-python",
   "name": "python",
   "nbconvert_exporter": "python",
   "pygments_lexer": "ipython3",
   "version": "3.7.10"
  }
 },
 "nbformat": 4,
 "nbformat_minor": 5
}